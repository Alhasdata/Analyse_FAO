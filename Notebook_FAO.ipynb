{
 "cells": [
  {
   "cell_type": "code",
   "execution_count": 1,
   "id": "d99d17a1",
   "metadata": {},
   "outputs": [],
   "source": [
    "import numpy as np\n",
    "import pandas as pd\n",
    "import matplotlib.pyplot as plt"
   ]
  },
  {
   "cell_type": "markdown",
   "id": "b6d51a25",
   "metadata": {},
   "source": [
    "# Projet 4 : Panorama de l'état de la malnutrition dans le monde "
   ]
  },
  {
   "cell_type": "markdown",
   "id": "26dc6498",
   "metadata": {},
   "source": [
    "## I. Contexte\n",
    "\n",
    "Il s'agit d'une analyse de 4 jeux de données provenant du site de la FAO, qui a pour objectif de donner une vue d'ensemble de l'état de la malnutrition dans le monde.\n",
    "\n",
    "Données analysées: \n",
    "1. Un fichier de disponibilité alimentaire pour l’année 2017\n",
    "2. Un fichier d’insécurité alimentaire\n",
    "3. Un fichier de population \n",
    "4. Un fichier d'aide_alimentaire.\n",
    "\n",
    "Provenance des données : http://www.fao.org/faostat/fr/#data\n",
    "\n"
   ]
  },
  {
   "cell_type": "markdown",
   "id": "3ab78130",
   "metadata": {},
   "source": [
    "## II. Préparation des données"
   ]
  },
  {
   "cell_type": "markdown",
   "id": "1f7a1632",
   "metadata": {},
   "source": [
    "### 1. Fichier de disponibilité alimentaire\n",
    "ce fichier contient les variable suivantes :\n",
    "-\tLe pays.\n",
    "-\tLe produit.\n",
    "-\t4 variables de disponibilité alimentaire. Ces 4 variables sont exprimées dans des unités bien spécifiques, qui sont précisées directement dans le nom de la variable. À noter cependant que la notation kcal est un abus de langage, elle correspond à une calorie réelle.\n",
    "-\t10 variables qui précisent les utilisations/moyens d’acquisition de la disponibilité alimentaire. Elles sont toutes exprimées en milliers de tonnes.\n",
    "-\tEnfin, une variable type qui précise si le produit est d’origine animale ou végétale."
   ]
  },
  {
   "cell_type": "markdown",
   "id": "464dfd01",
   "metadata": {},
   "source": [
    "#### 1.1. Importation du fichier\n",
    "\n",
    "Cette phase consiste à importer le dataframe."
   ]
  },
  {
   "cell_type": "code",
   "execution_count": 2,
   "id": "3f746cc1-3238-45ed-a888-d869516a7204",
   "metadata": {},
   "outputs": [],
   "source": [
    "dispo_alimentaire = pd.read_csv('dispo_alimentaire.csv', sep =',')"
   ]
  },
  {
   "cell_type": "code",
   "execution_count": 3,
   "id": "e12d3427-7344-4842-8f7b-21b5139eeea2",
   "metadata": {},
   "outputs": [
    {
     "data": {
      "text/html": [
       "<div>\n",
       "<style scoped>\n",
       "    .dataframe tbody tr th:only-of-type {\n",
       "        vertical-align: middle;\n",
       "    }\n",
       "\n",
       "    .dataframe tbody tr th {\n",
       "        vertical-align: top;\n",
       "    }\n",
       "\n",
       "    .dataframe thead th {\n",
       "        text-align: right;\n",
       "    }\n",
       "</style>\n",
       "<table border=\"1\" class=\"dataframe\">\n",
       "  <thead>\n",
       "    <tr style=\"text-align: right;\">\n",
       "      <th></th>\n",
       "      <th>Zone</th>\n",
       "      <th>Produit</th>\n",
       "      <th>Origine</th>\n",
       "      <th>Aliments pour animaux</th>\n",
       "      <th>Autres Utilisations</th>\n",
       "      <th>Disponibilité alimentaire (Kcal/personne/jour)</th>\n",
       "      <th>Disponibilité alimentaire en quantité (kg/personne/an)</th>\n",
       "      <th>Disponibilité de matière grasse en quantité (g/personne/jour)</th>\n",
       "      <th>Disponibilité de protéines en quantité (g/personne/jour)</th>\n",
       "      <th>Disponibilité intérieure</th>\n",
       "      <th>Exportations - Quantité</th>\n",
       "      <th>Importations - Quantité</th>\n",
       "      <th>Nourriture</th>\n",
       "      <th>Pertes</th>\n",
       "      <th>Production</th>\n",
       "      <th>Semences</th>\n",
       "      <th>Traitement</th>\n",
       "      <th>Variation de stock</th>\n",
       "    </tr>\n",
       "  </thead>\n",
       "  <tbody>\n",
       "    <tr>\n",
       "      <th>0</th>\n",
       "      <td>Afghanistan</td>\n",
       "      <td>Abats Comestible</td>\n",
       "      <td>animale</td>\n",
       "      <td>NaN</td>\n",
       "      <td>NaN</td>\n",
       "      <td>5.0</td>\n",
       "      <td>1.72</td>\n",
       "      <td>0.20</td>\n",
       "      <td>0.77</td>\n",
       "      <td>53.0</td>\n",
       "      <td>NaN</td>\n",
       "      <td>NaN</td>\n",
       "      <td>53.0</td>\n",
       "      <td>NaN</td>\n",
       "      <td>53.0</td>\n",
       "      <td>NaN</td>\n",
       "      <td>NaN</td>\n",
       "      <td>NaN</td>\n",
       "    </tr>\n",
       "    <tr>\n",
       "      <th>1</th>\n",
       "      <td>Afghanistan</td>\n",
       "      <td>Agrumes, Autres</td>\n",
       "      <td>vegetale</td>\n",
       "      <td>NaN</td>\n",
       "      <td>NaN</td>\n",
       "      <td>1.0</td>\n",
       "      <td>1.29</td>\n",
       "      <td>0.01</td>\n",
       "      <td>0.02</td>\n",
       "      <td>41.0</td>\n",
       "      <td>2.0</td>\n",
       "      <td>40.0</td>\n",
       "      <td>39.0</td>\n",
       "      <td>2.0</td>\n",
       "      <td>3.0</td>\n",
       "      <td>NaN</td>\n",
       "      <td>NaN</td>\n",
       "      <td>NaN</td>\n",
       "    </tr>\n",
       "    <tr>\n",
       "      <th>2</th>\n",
       "      <td>Afghanistan</td>\n",
       "      <td>Aliments pour enfants</td>\n",
       "      <td>vegetale</td>\n",
       "      <td>NaN</td>\n",
       "      <td>NaN</td>\n",
       "      <td>1.0</td>\n",
       "      <td>0.06</td>\n",
       "      <td>0.01</td>\n",
       "      <td>0.03</td>\n",
       "      <td>2.0</td>\n",
       "      <td>NaN</td>\n",
       "      <td>2.0</td>\n",
       "      <td>2.0</td>\n",
       "      <td>NaN</td>\n",
       "      <td>NaN</td>\n",
       "      <td>NaN</td>\n",
       "      <td>NaN</td>\n",
       "      <td>NaN</td>\n",
       "    </tr>\n",
       "    <tr>\n",
       "      <th>3</th>\n",
       "      <td>Afghanistan</td>\n",
       "      <td>Ananas</td>\n",
       "      <td>vegetale</td>\n",
       "      <td>NaN</td>\n",
       "      <td>NaN</td>\n",
       "      <td>0.0</td>\n",
       "      <td>0.00</td>\n",
       "      <td>NaN</td>\n",
       "      <td>NaN</td>\n",
       "      <td>0.0</td>\n",
       "      <td>NaN</td>\n",
       "      <td>0.0</td>\n",
       "      <td>0.0</td>\n",
       "      <td>NaN</td>\n",
       "      <td>NaN</td>\n",
       "      <td>NaN</td>\n",
       "      <td>NaN</td>\n",
       "      <td>NaN</td>\n",
       "    </tr>\n",
       "    <tr>\n",
       "      <th>4</th>\n",
       "      <td>Afghanistan</td>\n",
       "      <td>Bananes</td>\n",
       "      <td>vegetale</td>\n",
       "      <td>NaN</td>\n",
       "      <td>NaN</td>\n",
       "      <td>4.0</td>\n",
       "      <td>2.70</td>\n",
       "      <td>0.02</td>\n",
       "      <td>0.05</td>\n",
       "      <td>82.0</td>\n",
       "      <td>NaN</td>\n",
       "      <td>82.0</td>\n",
       "      <td>82.0</td>\n",
       "      <td>NaN</td>\n",
       "      <td>NaN</td>\n",
       "      <td>NaN</td>\n",
       "      <td>NaN</td>\n",
       "      <td>NaN</td>\n",
       "    </tr>\n",
       "  </tbody>\n",
       "</table>\n",
       "</div>"
      ],
      "text/plain": [
       "          Zone                Produit   Origine  Aliments pour animaux  \\\n",
       "0  Afghanistan       Abats Comestible   animale                    NaN   \n",
       "1  Afghanistan        Agrumes, Autres  vegetale                    NaN   \n",
       "2  Afghanistan  Aliments pour enfants  vegetale                    NaN   \n",
       "3  Afghanistan                 Ananas  vegetale                    NaN   \n",
       "4  Afghanistan                Bananes  vegetale                    NaN   \n",
       "\n",
       "   Autres Utilisations  Disponibilité alimentaire (Kcal/personne/jour)  \\\n",
       "0                  NaN                                             5.0   \n",
       "1                  NaN                                             1.0   \n",
       "2                  NaN                                             1.0   \n",
       "3                  NaN                                             0.0   \n",
       "4                  NaN                                             4.0   \n",
       "\n",
       "   Disponibilité alimentaire en quantité (kg/personne/an)  \\\n",
       "0                                               1.72        \n",
       "1                                               1.29        \n",
       "2                                               0.06        \n",
       "3                                               0.00        \n",
       "4                                               2.70        \n",
       "\n",
       "   Disponibilité de matière grasse en quantité (g/personne/jour)  \\\n",
       "0                                               0.20               \n",
       "1                                               0.01               \n",
       "2                                               0.01               \n",
       "3                                                NaN               \n",
       "4                                               0.02               \n",
       "\n",
       "   Disponibilité de protéines en quantité (g/personne/jour)  \\\n",
       "0                                               0.77          \n",
       "1                                               0.02          \n",
       "2                                               0.03          \n",
       "3                                                NaN          \n",
       "4                                               0.05          \n",
       "\n",
       "   Disponibilité intérieure  Exportations - Quantité  Importations - Quantité  \\\n",
       "0                      53.0                      NaN                      NaN   \n",
       "1                      41.0                      2.0                     40.0   \n",
       "2                       2.0                      NaN                      2.0   \n",
       "3                       0.0                      NaN                      0.0   \n",
       "4                      82.0                      NaN                     82.0   \n",
       "\n",
       "   Nourriture  Pertes  Production  Semences  Traitement  Variation de stock  \n",
       "0        53.0     NaN        53.0       NaN         NaN                 NaN  \n",
       "1        39.0     2.0         3.0       NaN         NaN                 NaN  \n",
       "2         2.0     NaN         NaN       NaN         NaN                 NaN  \n",
       "3         0.0     NaN         NaN       NaN         NaN                 NaN  \n",
       "4        82.0     NaN         NaN       NaN         NaN                 NaN  "
      ]
     },
     "execution_count": 3,
     "metadata": {},
     "output_type": "execute_result"
    }
   ],
   "source": [
    "dispo_alimentaire.head()"
   ]
  },
  {
   "cell_type": "code",
   "execution_count": 4,
   "id": "574e8ef9-be13-4807-9b92-7d3c8aaf4733",
   "metadata": {},
   "outputs": [],
   "source": [
    "dispo_alimentaire.rename(columns={\"Zone\":\"Pays\"}, inplace=True)"
   ]
  },
  {
   "cell_type": "markdown",
   "id": "60d9a2be-a17e-4aed-8deb-2369b75d475e",
   "metadata": {
    "tags": []
   },
   "source": [
    "#### 1.2. Inspection et nettoyage des données\n",
    "\n",
    "Dans un premier temps, nous afficherons un aperçu rapide des cinq premières lignes du dataframe avec la méthode .head()afin de vérifier si l'importation s'est bien passée."
   ]
  },
  {
   "cell_type": "code",
   "execution_count": 5,
   "id": "51d9fd32",
   "metadata": {
    "tags": []
   },
   "outputs": [
    {
     "data": {
      "text/html": [
       "<div>\n",
       "<style scoped>\n",
       "    .dataframe tbody tr th:only-of-type {\n",
       "        vertical-align: middle;\n",
       "    }\n",
       "\n",
       "    .dataframe tbody tr th {\n",
       "        vertical-align: top;\n",
       "    }\n",
       "\n",
       "    .dataframe thead th {\n",
       "        text-align: right;\n",
       "    }\n",
       "</style>\n",
       "<table border=\"1\" class=\"dataframe\">\n",
       "  <thead>\n",
       "    <tr style=\"text-align: right;\">\n",
       "      <th></th>\n",
       "      <th>Pays</th>\n",
       "      <th>Produit</th>\n",
       "      <th>Origine</th>\n",
       "      <th>Aliments pour animaux</th>\n",
       "      <th>Autres Utilisations</th>\n",
       "      <th>Disponibilité alimentaire (Kcal/personne/jour)</th>\n",
       "      <th>Disponibilité alimentaire en quantité (kg/personne/an)</th>\n",
       "      <th>Disponibilité de matière grasse en quantité (g/personne/jour)</th>\n",
       "      <th>Disponibilité de protéines en quantité (g/personne/jour)</th>\n",
       "      <th>Disponibilité intérieure</th>\n",
       "      <th>Exportations - Quantité</th>\n",
       "      <th>Importations - Quantité</th>\n",
       "      <th>Nourriture</th>\n",
       "      <th>Pertes</th>\n",
       "      <th>Production</th>\n",
       "      <th>Semences</th>\n",
       "      <th>Traitement</th>\n",
       "      <th>Variation de stock</th>\n",
       "    </tr>\n",
       "  </thead>\n",
       "  <tbody>\n",
       "    <tr>\n",
       "      <th>0</th>\n",
       "      <td>Afghanistan</td>\n",
       "      <td>Abats Comestible</td>\n",
       "      <td>animale</td>\n",
       "      <td>NaN</td>\n",
       "      <td>NaN</td>\n",
       "      <td>5.0</td>\n",
       "      <td>1.72</td>\n",
       "      <td>0.20</td>\n",
       "      <td>0.77</td>\n",
       "      <td>53.0</td>\n",
       "      <td>NaN</td>\n",
       "      <td>NaN</td>\n",
       "      <td>53.0</td>\n",
       "      <td>NaN</td>\n",
       "      <td>53.0</td>\n",
       "      <td>NaN</td>\n",
       "      <td>NaN</td>\n",
       "      <td>NaN</td>\n",
       "    </tr>\n",
       "    <tr>\n",
       "      <th>1</th>\n",
       "      <td>Afghanistan</td>\n",
       "      <td>Agrumes, Autres</td>\n",
       "      <td>vegetale</td>\n",
       "      <td>NaN</td>\n",
       "      <td>NaN</td>\n",
       "      <td>1.0</td>\n",
       "      <td>1.29</td>\n",
       "      <td>0.01</td>\n",
       "      <td>0.02</td>\n",
       "      <td>41.0</td>\n",
       "      <td>2.0</td>\n",
       "      <td>40.0</td>\n",
       "      <td>39.0</td>\n",
       "      <td>2.0</td>\n",
       "      <td>3.0</td>\n",
       "      <td>NaN</td>\n",
       "      <td>NaN</td>\n",
       "      <td>NaN</td>\n",
       "    </tr>\n",
       "    <tr>\n",
       "      <th>2</th>\n",
       "      <td>Afghanistan</td>\n",
       "      <td>Aliments pour enfants</td>\n",
       "      <td>vegetale</td>\n",
       "      <td>NaN</td>\n",
       "      <td>NaN</td>\n",
       "      <td>1.0</td>\n",
       "      <td>0.06</td>\n",
       "      <td>0.01</td>\n",
       "      <td>0.03</td>\n",
       "      <td>2.0</td>\n",
       "      <td>NaN</td>\n",
       "      <td>2.0</td>\n",
       "      <td>2.0</td>\n",
       "      <td>NaN</td>\n",
       "      <td>NaN</td>\n",
       "      <td>NaN</td>\n",
       "      <td>NaN</td>\n",
       "      <td>NaN</td>\n",
       "    </tr>\n",
       "    <tr>\n",
       "      <th>3</th>\n",
       "      <td>Afghanistan</td>\n",
       "      <td>Ananas</td>\n",
       "      <td>vegetale</td>\n",
       "      <td>NaN</td>\n",
       "      <td>NaN</td>\n",
       "      <td>0.0</td>\n",
       "      <td>0.00</td>\n",
       "      <td>NaN</td>\n",
       "      <td>NaN</td>\n",
       "      <td>0.0</td>\n",
       "      <td>NaN</td>\n",
       "      <td>0.0</td>\n",
       "      <td>0.0</td>\n",
       "      <td>NaN</td>\n",
       "      <td>NaN</td>\n",
       "      <td>NaN</td>\n",
       "      <td>NaN</td>\n",
       "      <td>NaN</td>\n",
       "    </tr>\n",
       "    <tr>\n",
       "      <th>4</th>\n",
       "      <td>Afghanistan</td>\n",
       "      <td>Bananes</td>\n",
       "      <td>vegetale</td>\n",
       "      <td>NaN</td>\n",
       "      <td>NaN</td>\n",
       "      <td>4.0</td>\n",
       "      <td>2.70</td>\n",
       "      <td>0.02</td>\n",
       "      <td>0.05</td>\n",
       "      <td>82.0</td>\n",
       "      <td>NaN</td>\n",
       "      <td>82.0</td>\n",
       "      <td>82.0</td>\n",
       "      <td>NaN</td>\n",
       "      <td>NaN</td>\n",
       "      <td>NaN</td>\n",
       "      <td>NaN</td>\n",
       "      <td>NaN</td>\n",
       "    </tr>\n",
       "  </tbody>\n",
       "</table>\n",
       "</div>"
      ],
      "text/plain": [
       "          Pays                Produit   Origine  Aliments pour animaux  \\\n",
       "0  Afghanistan       Abats Comestible   animale                    NaN   \n",
       "1  Afghanistan        Agrumes, Autres  vegetale                    NaN   \n",
       "2  Afghanistan  Aliments pour enfants  vegetale                    NaN   \n",
       "3  Afghanistan                 Ananas  vegetale                    NaN   \n",
       "4  Afghanistan                Bananes  vegetale                    NaN   \n",
       "\n",
       "   Autres Utilisations  Disponibilité alimentaire (Kcal/personne/jour)  \\\n",
       "0                  NaN                                             5.0   \n",
       "1                  NaN                                             1.0   \n",
       "2                  NaN                                             1.0   \n",
       "3                  NaN                                             0.0   \n",
       "4                  NaN                                             4.0   \n",
       "\n",
       "   Disponibilité alimentaire en quantité (kg/personne/an)  \\\n",
       "0                                               1.72        \n",
       "1                                               1.29        \n",
       "2                                               0.06        \n",
       "3                                               0.00        \n",
       "4                                               2.70        \n",
       "\n",
       "   Disponibilité de matière grasse en quantité (g/personne/jour)  \\\n",
       "0                                               0.20               \n",
       "1                                               0.01               \n",
       "2                                               0.01               \n",
       "3                                                NaN               \n",
       "4                                               0.02               \n",
       "\n",
       "   Disponibilité de protéines en quantité (g/personne/jour)  \\\n",
       "0                                               0.77          \n",
       "1                                               0.02          \n",
       "2                                               0.03          \n",
       "3                                                NaN          \n",
       "4                                               0.05          \n",
       "\n",
       "   Disponibilité intérieure  Exportations - Quantité  Importations - Quantité  \\\n",
       "0                      53.0                      NaN                      NaN   \n",
       "1                      41.0                      2.0                     40.0   \n",
       "2                       2.0                      NaN                      2.0   \n",
       "3                       0.0                      NaN                      0.0   \n",
       "4                      82.0                      NaN                     82.0   \n",
       "\n",
       "   Nourriture  Pertes  Production  Semences  Traitement  Variation de stock  \n",
       "0        53.0     NaN        53.0       NaN         NaN                 NaN  \n",
       "1        39.0     2.0         3.0       NaN         NaN                 NaN  \n",
       "2         2.0     NaN         NaN       NaN         NaN                 NaN  \n",
       "3         0.0     NaN         NaN       NaN         NaN                 NaN  \n",
       "4        82.0     NaN         NaN       NaN         NaN                 NaN  "
      ]
     },
     "execution_count": 5,
     "metadata": {},
     "output_type": "execute_result"
    }
   ],
   "source": [
    "dispo_alimentaire.head()"
   ]
  },
  {
   "cell_type": "markdown",
   "id": "39cdb298-315b-4ae6-ab33-1d980fbd9b97",
   "metadata": {},
   "source": [
    "Nous allons ensuite renomer et convertir les unités de mésure en kg afin d'homogénéiser le dataframe.:\n",
    "\n",
    "1 g/personne/jour = 0.001 kg*365/personne/an\n",
    "\n",
    "1 000tonnes = 1 000 000 kg"
   ]
  },
  {
   "cell_type": "markdown",
   "id": "b116be41-478c-4c4e-90e7-927473f5aec8",
   "metadata": {},
   "source": [
    "Renommage des colonnes :"
   ]
  },
  {
   "cell_type": "code",
   "execution_count": 6,
   "id": "22e432fa-9ba5-442e-85c1-a21b982c843f",
   "metadata": {},
   "outputs": [],
   "source": [
    "dispo_alimentaire.rename(columns={\n",
    "     \"Disponibilité de matière grasse en quantité (g/personne/jour)\":\"Disponibilité de matière grasse en quantité (kg/personne/an)\",\n",
    "     \"Disponibilité de protéines en quantité (g/personne/jour)\":\"Disponibilité de protéines en quantité (kg/personne/an)\"\n",
    "}, inplace=True)"
   ]
  },
  {
   "cell_type": "markdown",
   "id": "2766418a-7094-4517-a392-9548e86eed5f",
   "metadata": {},
   "source": [
    "Conversion des unités de mésure :"
   ]
  },
  {
   "cell_type": "code",
   "execution_count": 7,
   "id": "2986ac9d-6845-483e-ab49-dd673833c0fa",
   "metadata": {},
   "outputs": [],
   "source": [
    "conversion_dispo =  [\"Disponibilité de matière grasse en quantité (kg/personne/an)\", \"Disponibilité de protéines en quantité (kg/personne/an)\"]\n",
    "for x in conversion_dispo:\n",
    "    dispo_alimentaire[x] *=365*0.001\n",
    "    \n",
    "conversion_utilisation_acquisition = [\"Disponibilité intérieure\", \"Aliments pour animaux\", \"Autres Utilisations\", \"Exportations - Quantité\",\"Importations - Quantité\", \"Nourriture\", \"Pertes\", \"Production\", \"Semences\",\"Traitement\",\"Variation de stock\"]\n",
    "for x in conversion_utilisation_acquisition:\n",
    "    dispo_alimentaire[x] *= 1000000\n",
    "    "
   ]
  },
  {
   "cell_type": "markdown",
   "id": "ba0e550f-3f3c-4374-af2b-e95c40fce284",
   "metadata": {},
   "source": [
    "Ensuite, nous nous occuperons des cellules non renseignées (NaN) en les remplaçant par des 0"
   ]
  },
  {
   "cell_type": "code",
   "execution_count": 8,
   "id": "08050ed2",
   "metadata": {},
   "outputs": [],
   "source": [
    "dispo_alimentaire.fillna(0, inplace=True)"
   ]
  },
  {
   "cell_type": "markdown",
   "id": "ed663af7-7d00-4bed-b243-1535066733a8",
   "metadata": {},
   "source": [
    "Ensuite, nous procéderons à la vérification du type de chacune des variables de notre dataframe grâce à la méthode .dtypes"
   ]
  },
  {
   "cell_type": "code",
   "execution_count": 9,
   "id": "c36dc318",
   "metadata": {
    "scrolled": true
   },
   "outputs": [
    {
     "data": {
      "text/plain": [
       "Pays                                                             object\n",
       "Produit                                                          object\n",
       "Origine                                                          object\n",
       "Aliments pour animaux                                           float64\n",
       "Autres Utilisations                                             float64\n",
       "Disponibilité alimentaire (Kcal/personne/jour)                  float64\n",
       "Disponibilité alimentaire en quantité (kg/personne/an)          float64\n",
       "Disponibilité de matière grasse en quantité (kg/personne/an)    float64\n",
       "Disponibilité de protéines en quantité (kg/personne/an)         float64\n",
       "Disponibilité intérieure                                        float64\n",
       "Exportations - Quantité                                         float64\n",
       "Importations - Quantité                                         float64\n",
       "Nourriture                                                      float64\n",
       "Pertes                                                          float64\n",
       "Production                                                      float64\n",
       "Semences                                                        float64\n",
       "Traitement                                                      float64\n",
       "Variation de stock                                              float64\n",
       "dtype: object"
      ]
     },
     "execution_count": 9,
     "metadata": {},
     "output_type": "execute_result"
    }
   ],
   "source": [
    "dispo_alimentaire.dtypes"
   ]
  },
  {
   "cell_type": "markdown",
   "id": "c4413349-97f6-4e68-a83c-bf9f1befc142",
   "metadata": {},
   "source": [
    "Voici un dernier petit aperçu de notre dataframe."
   ]
  },
  {
   "cell_type": "code",
   "execution_count": 10,
   "id": "da2c397b-7b23-471b-8128-cbc1c0e0e049",
   "metadata": {},
   "outputs": [
    {
     "data": {
      "text/html": [
       "<div>\n",
       "<style scoped>\n",
       "    .dataframe tbody tr th:only-of-type {\n",
       "        vertical-align: middle;\n",
       "    }\n",
       "\n",
       "    .dataframe tbody tr th {\n",
       "        vertical-align: top;\n",
       "    }\n",
       "\n",
       "    .dataframe thead th {\n",
       "        text-align: right;\n",
       "    }\n",
       "</style>\n",
       "<table border=\"1\" class=\"dataframe\">\n",
       "  <thead>\n",
       "    <tr style=\"text-align: right;\">\n",
       "      <th></th>\n",
       "      <th>Pays</th>\n",
       "      <th>Produit</th>\n",
       "      <th>Origine</th>\n",
       "      <th>Aliments pour animaux</th>\n",
       "      <th>Autres Utilisations</th>\n",
       "      <th>Disponibilité alimentaire (Kcal/personne/jour)</th>\n",
       "      <th>Disponibilité alimentaire en quantité (kg/personne/an)</th>\n",
       "      <th>Disponibilité de matière grasse en quantité (kg/personne/an)</th>\n",
       "      <th>Disponibilité de protéines en quantité (kg/personne/an)</th>\n",
       "      <th>Disponibilité intérieure</th>\n",
       "      <th>Exportations - Quantité</th>\n",
       "      <th>Importations - Quantité</th>\n",
       "      <th>Nourriture</th>\n",
       "      <th>Pertes</th>\n",
       "      <th>Production</th>\n",
       "      <th>Semences</th>\n",
       "      <th>Traitement</th>\n",
       "      <th>Variation de stock</th>\n",
       "    </tr>\n",
       "  </thead>\n",
       "  <tbody>\n",
       "    <tr>\n",
       "      <th>0</th>\n",
       "      <td>Afghanistan</td>\n",
       "      <td>Abats Comestible</td>\n",
       "      <td>animale</td>\n",
       "      <td>0.0</td>\n",
       "      <td>0.0</td>\n",
       "      <td>5.0</td>\n",
       "      <td>1.72</td>\n",
       "      <td>0.07300</td>\n",
       "      <td>0.28105</td>\n",
       "      <td>53000000.0</td>\n",
       "      <td>0.0</td>\n",
       "      <td>0.0</td>\n",
       "      <td>53000000.0</td>\n",
       "      <td>0.0</td>\n",
       "      <td>53000000.0</td>\n",
       "      <td>0.0</td>\n",
       "      <td>0.0</td>\n",
       "      <td>0.0</td>\n",
       "    </tr>\n",
       "    <tr>\n",
       "      <th>1</th>\n",
       "      <td>Afghanistan</td>\n",
       "      <td>Agrumes, Autres</td>\n",
       "      <td>vegetale</td>\n",
       "      <td>0.0</td>\n",
       "      <td>0.0</td>\n",
       "      <td>1.0</td>\n",
       "      <td>1.29</td>\n",
       "      <td>0.00365</td>\n",
       "      <td>0.00730</td>\n",
       "      <td>41000000.0</td>\n",
       "      <td>2000000.0</td>\n",
       "      <td>40000000.0</td>\n",
       "      <td>39000000.0</td>\n",
       "      <td>2000000.0</td>\n",
       "      <td>3000000.0</td>\n",
       "      <td>0.0</td>\n",
       "      <td>0.0</td>\n",
       "      <td>0.0</td>\n",
       "    </tr>\n",
       "    <tr>\n",
       "      <th>2</th>\n",
       "      <td>Afghanistan</td>\n",
       "      <td>Aliments pour enfants</td>\n",
       "      <td>vegetale</td>\n",
       "      <td>0.0</td>\n",
       "      <td>0.0</td>\n",
       "      <td>1.0</td>\n",
       "      <td>0.06</td>\n",
       "      <td>0.00365</td>\n",
       "      <td>0.01095</td>\n",
       "      <td>2000000.0</td>\n",
       "      <td>0.0</td>\n",
       "      <td>2000000.0</td>\n",
       "      <td>2000000.0</td>\n",
       "      <td>0.0</td>\n",
       "      <td>0.0</td>\n",
       "      <td>0.0</td>\n",
       "      <td>0.0</td>\n",
       "      <td>0.0</td>\n",
       "    </tr>\n",
       "    <tr>\n",
       "      <th>3</th>\n",
       "      <td>Afghanistan</td>\n",
       "      <td>Ananas</td>\n",
       "      <td>vegetale</td>\n",
       "      <td>0.0</td>\n",
       "      <td>0.0</td>\n",
       "      <td>0.0</td>\n",
       "      <td>0.00</td>\n",
       "      <td>0.00000</td>\n",
       "      <td>0.00000</td>\n",
       "      <td>0.0</td>\n",
       "      <td>0.0</td>\n",
       "      <td>0.0</td>\n",
       "      <td>0.0</td>\n",
       "      <td>0.0</td>\n",
       "      <td>0.0</td>\n",
       "      <td>0.0</td>\n",
       "      <td>0.0</td>\n",
       "      <td>0.0</td>\n",
       "    </tr>\n",
       "    <tr>\n",
       "      <th>4</th>\n",
       "      <td>Afghanistan</td>\n",
       "      <td>Bananes</td>\n",
       "      <td>vegetale</td>\n",
       "      <td>0.0</td>\n",
       "      <td>0.0</td>\n",
       "      <td>4.0</td>\n",
       "      <td>2.70</td>\n",
       "      <td>0.00730</td>\n",
       "      <td>0.01825</td>\n",
       "      <td>82000000.0</td>\n",
       "      <td>0.0</td>\n",
       "      <td>82000000.0</td>\n",
       "      <td>82000000.0</td>\n",
       "      <td>0.0</td>\n",
       "      <td>0.0</td>\n",
       "      <td>0.0</td>\n",
       "      <td>0.0</td>\n",
       "      <td>0.0</td>\n",
       "    </tr>\n",
       "  </tbody>\n",
       "</table>\n",
       "</div>"
      ],
      "text/plain": [
       "          Pays                Produit   Origine  Aliments pour animaux  \\\n",
       "0  Afghanistan       Abats Comestible   animale                    0.0   \n",
       "1  Afghanistan        Agrumes, Autres  vegetale                    0.0   \n",
       "2  Afghanistan  Aliments pour enfants  vegetale                    0.0   \n",
       "3  Afghanistan                 Ananas  vegetale                    0.0   \n",
       "4  Afghanistan                Bananes  vegetale                    0.0   \n",
       "\n",
       "   Autres Utilisations  Disponibilité alimentaire (Kcal/personne/jour)  \\\n",
       "0                  0.0                                             5.0   \n",
       "1                  0.0                                             1.0   \n",
       "2                  0.0                                             1.0   \n",
       "3                  0.0                                             0.0   \n",
       "4                  0.0                                             4.0   \n",
       "\n",
       "   Disponibilité alimentaire en quantité (kg/personne/an)  \\\n",
       "0                                               1.72        \n",
       "1                                               1.29        \n",
       "2                                               0.06        \n",
       "3                                               0.00        \n",
       "4                                               2.70        \n",
       "\n",
       "   Disponibilité de matière grasse en quantité (kg/personne/an)  \\\n",
       "0                                            0.07300              \n",
       "1                                            0.00365              \n",
       "2                                            0.00365              \n",
       "3                                            0.00000              \n",
       "4                                            0.00730              \n",
       "\n",
       "   Disponibilité de protéines en quantité (kg/personne/an)  \\\n",
       "0                                            0.28105         \n",
       "1                                            0.00730         \n",
       "2                                            0.01095         \n",
       "3                                            0.00000         \n",
       "4                                            0.01825         \n",
       "\n",
       "   Disponibilité intérieure  Exportations - Quantité  Importations - Quantité  \\\n",
       "0                53000000.0                      0.0                      0.0   \n",
       "1                41000000.0                2000000.0               40000000.0   \n",
       "2                 2000000.0                      0.0                2000000.0   \n",
       "3                       0.0                      0.0                      0.0   \n",
       "4                82000000.0                      0.0               82000000.0   \n",
       "\n",
       "   Nourriture     Pertes  Production  Semences  Traitement  Variation de stock  \n",
       "0  53000000.0        0.0  53000000.0       0.0         0.0                 0.0  \n",
       "1  39000000.0  2000000.0   3000000.0       0.0         0.0                 0.0  \n",
       "2   2000000.0        0.0         0.0       0.0         0.0                 0.0  \n",
       "3         0.0        0.0         0.0       0.0         0.0                 0.0  \n",
       "4  82000000.0        0.0         0.0       0.0         0.0                 0.0  "
      ]
     },
     "execution_count": 10,
     "metadata": {},
     "output_type": "execute_result"
    }
   ],
   "source": [
    "dispo_alimentaire.head()"
   ]
  },
  {
   "cell_type": "markdown",
   "id": "a564d048",
   "metadata": {
    "tags": []
   },
   "source": [
    "#### 1.3. Validation du dataframe"
   ]
  },
  {
   "cell_type": "code",
   "execution_count": 11,
   "id": "d28d814f",
   "metadata": {},
   "outputs": [
    {
     "data": {
      "text/plain": [
       "(15605, 18)"
      ]
     },
     "execution_count": 11,
     "metadata": {},
     "output_type": "execute_result"
    }
   ],
   "source": [
    "dispo_alimentaire.shape"
   ]
  },
  {
   "cell_type": "code",
   "execution_count": 12,
   "id": "fd962b3a",
   "metadata": {},
   "outputs": [
    {
     "data": {
      "text/plain": [
       "280890"
      ]
     },
     "execution_count": 12,
     "metadata": {},
     "output_type": "execute_result"
    }
   ],
   "source": [
    "dispo_alimentaire.size"
   ]
  },
  {
   "cell_type": "markdown",
   "id": "2ad95df8",
   "metadata": {},
   "source": [
    "Le dataframe comporte 15605 lignes, 18 colonnes et 280890 éléments.\n",
    "\n",
    "Tous les champs du dataframe sont bien typés.\n",
    "\n",
    "Toutes les cellules Nan sont traitées.\n",
    "\n",
    "Les unités de mésure sont uniformisées aussitôt que la conversion est possible.\n",
    "\n",
    "Le dataframe est prêt!"
   ]
  },
  {
   "cell_type": "markdown",
   "id": "9e02304c",
   "metadata": {},
   "source": [
    "### 2. Fichier d’insécurité alimentaire\n",
    "Ce fichier contient les variables suivantes : \n",
    "- le pays.\n",
    "- un intervalle d’années.\n",
    "- le nombre de personnes en sous-alimentation en millions d’habitants.\n"
   ]
  },
  {
   "cell_type": "markdown",
   "id": "8e7790a8-7582-45e0-99e4-430c94d864d7",
   "metadata": {},
   "source": [
    "#### 2.1. Importation du fichier"
   ]
  },
  {
   "cell_type": "code",
   "execution_count": 13,
   "id": "341d6d86-3e2e-44d1-9072-27cb5b5cb80d",
   "metadata": {},
   "outputs": [],
   "source": [
    "sous_nutrition = pd.read_csv('sous_nutrition.csv')"
   ]
  },
  {
   "cell_type": "code",
   "execution_count": 14,
   "id": "597cca66-8f30-4fa2-8733-1494d6562a3d",
   "metadata": {},
   "outputs": [
    {
     "data": {
      "text/html": [
       "<div>\n",
       "<style scoped>\n",
       "    .dataframe tbody tr th:only-of-type {\n",
       "        vertical-align: middle;\n",
       "    }\n",
       "\n",
       "    .dataframe tbody tr th {\n",
       "        vertical-align: top;\n",
       "    }\n",
       "\n",
       "    .dataframe thead th {\n",
       "        text-align: right;\n",
       "    }\n",
       "</style>\n",
       "<table border=\"1\" class=\"dataframe\">\n",
       "  <thead>\n",
       "    <tr style=\"text-align: right;\">\n",
       "      <th></th>\n",
       "      <th>Zone</th>\n",
       "      <th>Année</th>\n",
       "      <th>Valeur</th>\n",
       "    </tr>\n",
       "  </thead>\n",
       "  <tbody>\n",
       "    <tr>\n",
       "      <th>0</th>\n",
       "      <td>Afghanistan</td>\n",
       "      <td>2012-2014</td>\n",
       "      <td>8.6</td>\n",
       "    </tr>\n",
       "    <tr>\n",
       "      <th>1</th>\n",
       "      <td>Afghanistan</td>\n",
       "      <td>2013-2015</td>\n",
       "      <td>8.8</td>\n",
       "    </tr>\n",
       "    <tr>\n",
       "      <th>2</th>\n",
       "      <td>Afghanistan</td>\n",
       "      <td>2014-2016</td>\n",
       "      <td>8.9</td>\n",
       "    </tr>\n",
       "    <tr>\n",
       "      <th>3</th>\n",
       "      <td>Afghanistan</td>\n",
       "      <td>2015-2017</td>\n",
       "      <td>9.7</td>\n",
       "    </tr>\n",
       "    <tr>\n",
       "      <th>4</th>\n",
       "      <td>Afghanistan</td>\n",
       "      <td>2016-2018</td>\n",
       "      <td>10.5</td>\n",
       "    </tr>\n",
       "  </tbody>\n",
       "</table>\n",
       "</div>"
      ],
      "text/plain": [
       "          Zone      Année Valeur\n",
       "0  Afghanistan  2012-2014    8.6\n",
       "1  Afghanistan  2013-2015    8.8\n",
       "2  Afghanistan  2014-2016    8.9\n",
       "3  Afghanistan  2015-2017    9.7\n",
       "4  Afghanistan  2016-2018   10.5"
      ]
     },
     "execution_count": 14,
     "metadata": {},
     "output_type": "execute_result"
    }
   ],
   "source": [
    "sous_nutrition.head()"
   ]
  },
  {
   "cell_type": "code",
   "execution_count": 15,
   "id": "1b71bee6-945d-46cc-8b98-94d150c2043d",
   "metadata": {},
   "outputs": [],
   "source": [
    "sous_nutrition = sous_nutrition.rename(columns={\"Zone\":\"Pays\", \"Valeur\":\"Valeur_sous_nutrition\"})"
   ]
  },
  {
   "cell_type": "markdown",
   "id": "61e026b7-6d58-46e1-9201-22e72e3e5478",
   "metadata": {},
   "source": [
    "#### 2.2. Inspection et nettoyage des données"
   ]
  },
  {
   "cell_type": "code",
   "execution_count": 16,
   "id": "e8cf3569-2b95-4239-beab-fbf08125a722",
   "metadata": {},
   "outputs": [
    {
     "data": {
      "text/html": [
       "<div>\n",
       "<style scoped>\n",
       "    .dataframe tbody tr th:only-of-type {\n",
       "        vertical-align: middle;\n",
       "    }\n",
       "\n",
       "    .dataframe tbody tr th {\n",
       "        vertical-align: top;\n",
       "    }\n",
       "\n",
       "    .dataframe thead th {\n",
       "        text-align: right;\n",
       "    }\n",
       "</style>\n",
       "<table border=\"1\" class=\"dataframe\">\n",
       "  <thead>\n",
       "    <tr style=\"text-align: right;\">\n",
       "      <th></th>\n",
       "      <th>Pays</th>\n",
       "      <th>Année</th>\n",
       "      <th>Valeur_sous_nutrition</th>\n",
       "    </tr>\n",
       "  </thead>\n",
       "  <tbody>\n",
       "    <tr>\n",
       "      <th>0</th>\n",
       "      <td>Afghanistan</td>\n",
       "      <td>2012-2014</td>\n",
       "      <td>8.6</td>\n",
       "    </tr>\n",
       "    <tr>\n",
       "      <th>1</th>\n",
       "      <td>Afghanistan</td>\n",
       "      <td>2013-2015</td>\n",
       "      <td>8.8</td>\n",
       "    </tr>\n",
       "    <tr>\n",
       "      <th>2</th>\n",
       "      <td>Afghanistan</td>\n",
       "      <td>2014-2016</td>\n",
       "      <td>8.9</td>\n",
       "    </tr>\n",
       "    <tr>\n",
       "      <th>3</th>\n",
       "      <td>Afghanistan</td>\n",
       "      <td>2015-2017</td>\n",
       "      <td>9.7</td>\n",
       "    </tr>\n",
       "    <tr>\n",
       "      <th>4</th>\n",
       "      <td>Afghanistan</td>\n",
       "      <td>2016-2018</td>\n",
       "      <td>10.5</td>\n",
       "    </tr>\n",
       "  </tbody>\n",
       "</table>\n",
       "</div>"
      ],
      "text/plain": [
       "          Pays      Année Valeur_sous_nutrition\n",
       "0  Afghanistan  2012-2014                   8.6\n",
       "1  Afghanistan  2013-2015                   8.8\n",
       "2  Afghanistan  2014-2016                   8.9\n",
       "3  Afghanistan  2015-2017                   9.7\n",
       "4  Afghanistan  2016-2018                  10.5"
      ]
     },
     "execution_count": 16,
     "metadata": {},
     "output_type": "execute_result"
    }
   ],
   "source": [
    "sous_nutrition.head()"
   ]
  },
  {
   "cell_type": "code",
   "execution_count": 17,
   "id": "401deef9-4c91-48c9-b8ed-22a91ae9f21b",
   "metadata": {},
   "outputs": [
    {
     "data": {
      "text/plain": [
       "Pays                     object\n",
       "Année                    object\n",
       "Valeur_sous_nutrition    object\n",
       "dtype: object"
      ]
     },
     "execution_count": 17,
     "metadata": {},
     "output_type": "execute_result"
    }
   ],
   "source": [
    "sous_nutrition.dtypes\n"
   ]
  },
  {
   "cell_type": "markdown",
   "id": "72f0c9e2-b8f2-4be7-bd27-d3fde4fe2b46",
   "metadata": {},
   "source": [
    "La colonne Valeur_sous_nutrition est du type object. Afin de pouvoir faire des opérations avec les données de cette colonne, il sera nécessaire de modifier le type en numeric."
   ]
  },
  {
   "cell_type": "code",
   "execution_count": 18,
   "id": "4a1612f1-3ff2-4949-872a-c97af08c33d0",
   "metadata": {},
   "outputs": [],
   "source": [
    "sous_nutrition[\"Valeur_sous_nutrition\"] = pd.to_numeric(sous_nutrition[\"Valeur_sous_nutrition\"], errors='coerce')"
   ]
  },
  {
   "cell_type": "markdown",
   "id": "b03faa4f-60fb-4fbd-b3fd-330ab641b93c",
   "metadata": {},
   "source": [
    "Ensuite, nous nous occuperons des cellules non renseignées (NaN) en les remplaçant par des 0"
   ]
  },
  {
   "cell_type": "code",
   "execution_count": 19,
   "id": "b8e48a18-82a0-4fc3-bf83-917ebd0c3e10",
   "metadata": {},
   "outputs": [
    {
     "data": {
      "text/plain": [
       "dtype('float64')"
      ]
     },
     "execution_count": 19,
     "metadata": {},
     "output_type": "execute_result"
    }
   ],
   "source": [
    "sous_nutrition[\"Valeur_sous_nutrition\"].dtypes\n"
   ]
  },
  {
   "cell_type": "code",
   "execution_count": 20,
   "id": "e6f8ff76-57b9-4839-a3c5-d115f198a92e",
   "metadata": {},
   "outputs": [],
   "source": [
    "sous_nutrition = sous_nutrition.fillna(0)"
   ]
  },
  {
   "cell_type": "markdown",
   "id": "958ea944-cad2-4238-905c-8b2abc891803",
   "metadata": {},
   "source": [
    "Préparation de la colonne Année:"
   ]
  },
  {
   "cell_type": "code",
   "execution_count": 21,
   "id": "6e2f7a2c-cd77-4376-8316-51eb8db0e75f",
   "metadata": {},
   "outputs": [],
   "source": [
    "sous_nutrition['Année'].replace(['2012-2014', '2013-2015', '2014-2016', '2015-2017', '2016-2018', '2017-2019'],[2013, 2014, 2015, 2016, 2017, 2018], inplace=True)"
   ]
  },
  {
   "cell_type": "code",
   "execution_count": 22,
   "id": "8ef580de-1bdb-4e28-80ad-7b90cc488a3a",
   "metadata": {},
   "outputs": [],
   "source": [
    "sous_nutrition['Année'] = sous_nutrition['Année'].astype('int')"
   ]
  },
  {
   "cell_type": "markdown",
   "id": "7e445d5c-d344-4bb9-b1d0-05cf6861cfe8",
   "metadata": {},
   "source": [
    "Conversion de l'unité de mésure de la colonne Valeur_nutrition exprimée en millions d'habitants :"
   ]
  },
  {
   "cell_type": "code",
   "execution_count": 23,
   "id": "8a51b452-39a1-4c53-bfed-82a425e2a3dc",
   "metadata": {},
   "outputs": [],
   "source": [
    "sous_nutrition[\"Valeur_sous_nutrition\"] = sous_nutrition[\"Valeur_sous_nutrition\"] * 1000000"
   ]
  },
  {
   "cell_type": "code",
   "execution_count": 24,
   "id": "9fa9a4bd-588e-4aef-83b9-38949ee5bf68",
   "metadata": {},
   "outputs": [
    {
     "data": {
      "text/html": [
       "<div>\n",
       "<style scoped>\n",
       "    .dataframe tbody tr th:only-of-type {\n",
       "        vertical-align: middle;\n",
       "    }\n",
       "\n",
       "    .dataframe tbody tr th {\n",
       "        vertical-align: top;\n",
       "    }\n",
       "\n",
       "    .dataframe thead th {\n",
       "        text-align: right;\n",
       "    }\n",
       "</style>\n",
       "<table border=\"1\" class=\"dataframe\">\n",
       "  <thead>\n",
       "    <tr style=\"text-align: right;\">\n",
       "      <th></th>\n",
       "      <th>Pays</th>\n",
       "      <th>Année</th>\n",
       "      <th>Valeur_sous_nutrition</th>\n",
       "    </tr>\n",
       "  </thead>\n",
       "  <tbody>\n",
       "    <tr>\n",
       "      <th>0</th>\n",
       "      <td>Afghanistan</td>\n",
       "      <td>2013</td>\n",
       "      <td>8600000.0</td>\n",
       "    </tr>\n",
       "    <tr>\n",
       "      <th>1</th>\n",
       "      <td>Afghanistan</td>\n",
       "      <td>2014</td>\n",
       "      <td>8800000.0</td>\n",
       "    </tr>\n",
       "    <tr>\n",
       "      <th>2</th>\n",
       "      <td>Afghanistan</td>\n",
       "      <td>2015</td>\n",
       "      <td>8900000.0</td>\n",
       "    </tr>\n",
       "    <tr>\n",
       "      <th>3</th>\n",
       "      <td>Afghanistan</td>\n",
       "      <td>2016</td>\n",
       "      <td>9700000.0</td>\n",
       "    </tr>\n",
       "    <tr>\n",
       "      <th>4</th>\n",
       "      <td>Afghanistan</td>\n",
       "      <td>2017</td>\n",
       "      <td>10500000.0</td>\n",
       "    </tr>\n",
       "  </tbody>\n",
       "</table>\n",
       "</div>"
      ],
      "text/plain": [
       "          Pays  Année  Valeur_sous_nutrition\n",
       "0  Afghanistan   2013              8600000.0\n",
       "1  Afghanistan   2014              8800000.0\n",
       "2  Afghanistan   2015              8900000.0\n",
       "3  Afghanistan   2016              9700000.0\n",
       "4  Afghanistan   2017             10500000.0"
      ]
     },
     "execution_count": 24,
     "metadata": {},
     "output_type": "execute_result"
    }
   ],
   "source": [
    "sous_nutrition.head()"
   ]
  },
  {
   "cell_type": "code",
   "execution_count": 25,
   "id": "77c48376-a7b5-4928-bd6a-eb338db6a608",
   "metadata": {},
   "outputs": [
    {
     "data": {
      "text/plain": [
       "Pays                      object\n",
       "Année                      int32\n",
       "Valeur_sous_nutrition    float64\n",
       "dtype: object"
      ]
     },
     "execution_count": 25,
     "metadata": {},
     "output_type": "execute_result"
    }
   ],
   "source": [
    "sous_nutrition.dtypes"
   ]
  },
  {
   "cell_type": "markdown",
   "id": "96c342d1-7eec-4a2a-bea8-d2a589deb29a",
   "metadata": {
    "tags": []
   },
   "source": [
    "#### 2.3. Validation du dataframe"
   ]
  },
  {
   "cell_type": "code",
   "execution_count": 26,
   "id": "5999bf13-e208-4f32-90fa-50486beea18a",
   "metadata": {},
   "outputs": [
    {
     "data": {
      "text/plain": [
       "(1218, 3)"
      ]
     },
     "execution_count": 26,
     "metadata": {},
     "output_type": "execute_result"
    }
   ],
   "source": [
    "sous_nutrition.shape"
   ]
  },
  {
   "cell_type": "code",
   "execution_count": 27,
   "id": "f3d6ee03-7920-4894-9d52-43c08524066e",
   "metadata": {},
   "outputs": [
    {
     "data": {
      "text/plain": [
       "3654"
      ]
     },
     "execution_count": 27,
     "metadata": {},
     "output_type": "execute_result"
    }
   ],
   "source": [
    "sous_nutrition.size"
   ]
  },
  {
   "cell_type": "markdown",
   "id": "2fbd9a4d-25a1-4323-9f71-9569b4b25cff",
   "metadata": {},
   "source": [
    "Le dataframe comporte 1218 lignes, 3 colonnes et 3654 éléments.\n",
    "\n",
    "Tous les champs du dataframe sont bien typés.\n",
    "\n",
    "Toutes les cellules Nan sont traitées.\n",
    "\n",
    "Les unités de mésure sont uniformisées aussitôt que la conversion est possible.\n",
    "\n",
    "Le dataframe est prêt!"
   ]
  },
  {
   "cell_type": "markdown",
   "id": "37d4fb2a",
   "metadata": {},
   "source": [
    "### 3. Fichier de population"
   ]
  },
  {
   "cell_type": "markdown",
   "id": "46e08001-2b8a-4115-b739-7a4f052fbb71",
   "metadata": {},
   "source": [
    "#### 3.1. Importation du fichier"
   ]
  },
  {
   "cell_type": "code",
   "execution_count": 28,
   "id": "4fb5f360",
   "metadata": {},
   "outputs": [],
   "source": [
    "population = pd.read_csv('population.csv')"
   ]
  },
  {
   "cell_type": "code",
   "execution_count": 29,
   "id": "28b70d9b-d543-4195-a003-65abac09dc8f",
   "metadata": {},
   "outputs": [
    {
     "data": {
      "text/html": [
       "<div>\n",
       "<style scoped>\n",
       "    .dataframe tbody tr th:only-of-type {\n",
       "        vertical-align: middle;\n",
       "    }\n",
       "\n",
       "    .dataframe tbody tr th {\n",
       "        vertical-align: top;\n",
       "    }\n",
       "\n",
       "    .dataframe thead th {\n",
       "        text-align: right;\n",
       "    }\n",
       "</style>\n",
       "<table border=\"1\" class=\"dataframe\">\n",
       "  <thead>\n",
       "    <tr style=\"text-align: right;\">\n",
       "      <th></th>\n",
       "      <th>Zone</th>\n",
       "      <th>Année</th>\n",
       "      <th>Valeur</th>\n",
       "    </tr>\n",
       "  </thead>\n",
       "  <tbody>\n",
       "    <tr>\n",
       "      <th>0</th>\n",
       "      <td>Afghanistan</td>\n",
       "      <td>2013</td>\n",
       "      <td>32269.589</td>\n",
       "    </tr>\n",
       "    <tr>\n",
       "      <th>1</th>\n",
       "      <td>Afghanistan</td>\n",
       "      <td>2014</td>\n",
       "      <td>33370.794</td>\n",
       "    </tr>\n",
       "    <tr>\n",
       "      <th>2</th>\n",
       "      <td>Afghanistan</td>\n",
       "      <td>2015</td>\n",
       "      <td>34413.603</td>\n",
       "    </tr>\n",
       "    <tr>\n",
       "      <th>3</th>\n",
       "      <td>Afghanistan</td>\n",
       "      <td>2016</td>\n",
       "      <td>35383.032</td>\n",
       "    </tr>\n",
       "    <tr>\n",
       "      <th>4</th>\n",
       "      <td>Afghanistan</td>\n",
       "      <td>2017</td>\n",
       "      <td>36296.113</td>\n",
       "    </tr>\n",
       "  </tbody>\n",
       "</table>\n",
       "</div>"
      ],
      "text/plain": [
       "          Zone  Année     Valeur\n",
       "0  Afghanistan   2013  32269.589\n",
       "1  Afghanistan   2014  33370.794\n",
       "2  Afghanistan   2015  34413.603\n",
       "3  Afghanistan   2016  35383.032\n",
       "4  Afghanistan   2017  36296.113"
      ]
     },
     "execution_count": 29,
     "metadata": {},
     "output_type": "execute_result"
    }
   ],
   "source": [
    "population.head()"
   ]
  },
  {
   "cell_type": "code",
   "execution_count": 30,
   "id": "b709a1be-ec9f-4610-b297-559fd96b3f58",
   "metadata": {},
   "outputs": [],
   "source": [
    "population = population.rename(columns={\"Zone\":\"Pays\", \"Valeur\":\"Valeur_population\"})"
   ]
  },
  {
   "cell_type": "markdown",
   "id": "c6376d1b-346a-4c73-83e7-46c7665d6036",
   "metadata": {},
   "source": [
    "#### 3.2. Inspection des données"
   ]
  },
  {
   "cell_type": "code",
   "execution_count": 31,
   "id": "599dad9c-a090-4b65-b1bf-8b7feeafa718",
   "metadata": {},
   "outputs": [
    {
     "data": {
      "text/html": [
       "<div>\n",
       "<style scoped>\n",
       "    .dataframe tbody tr th:only-of-type {\n",
       "        vertical-align: middle;\n",
       "    }\n",
       "\n",
       "    .dataframe tbody tr th {\n",
       "        vertical-align: top;\n",
       "    }\n",
       "\n",
       "    .dataframe thead th {\n",
       "        text-align: right;\n",
       "    }\n",
       "</style>\n",
       "<table border=\"1\" class=\"dataframe\">\n",
       "  <thead>\n",
       "    <tr style=\"text-align: right;\">\n",
       "      <th></th>\n",
       "      <th>Pays</th>\n",
       "      <th>Année</th>\n",
       "      <th>Valeur_population</th>\n",
       "    </tr>\n",
       "  </thead>\n",
       "  <tbody>\n",
       "    <tr>\n",
       "      <th>0</th>\n",
       "      <td>Afghanistan</td>\n",
       "      <td>2013</td>\n",
       "      <td>32269.589</td>\n",
       "    </tr>\n",
       "    <tr>\n",
       "      <th>1</th>\n",
       "      <td>Afghanistan</td>\n",
       "      <td>2014</td>\n",
       "      <td>33370.794</td>\n",
       "    </tr>\n",
       "    <tr>\n",
       "      <th>2</th>\n",
       "      <td>Afghanistan</td>\n",
       "      <td>2015</td>\n",
       "      <td>34413.603</td>\n",
       "    </tr>\n",
       "    <tr>\n",
       "      <th>3</th>\n",
       "      <td>Afghanistan</td>\n",
       "      <td>2016</td>\n",
       "      <td>35383.032</td>\n",
       "    </tr>\n",
       "    <tr>\n",
       "      <th>4</th>\n",
       "      <td>Afghanistan</td>\n",
       "      <td>2017</td>\n",
       "      <td>36296.113</td>\n",
       "    </tr>\n",
       "  </tbody>\n",
       "</table>\n",
       "</div>"
      ],
      "text/plain": [
       "          Pays  Année  Valeur_population\n",
       "0  Afghanistan   2013          32269.589\n",
       "1  Afghanistan   2014          33370.794\n",
       "2  Afghanistan   2015          34413.603\n",
       "3  Afghanistan   2016          35383.032\n",
       "4  Afghanistan   2017          36296.113"
      ]
     },
     "execution_count": 31,
     "metadata": {},
     "output_type": "execute_result"
    }
   ],
   "source": [
    "population.head()"
   ]
  },
  {
   "cell_type": "markdown",
   "id": "ecc491be-f42f-496c-afde-039e89c71bf9",
   "metadata": {},
   "source": [
    "Conversion de l'unité de mésure de la colonne Valeur_population exprimée en milliers d'habitants :"
   ]
  },
  {
   "cell_type": "code",
   "execution_count": 32,
   "id": "83de9664-71df-4ca0-87ae-d5bf44b80730",
   "metadata": {},
   "outputs": [],
   "source": [
    "population[\"Valeur_population\"] = population[\"Valeur_population\"] * 1000"
   ]
  },
  {
   "cell_type": "code",
   "execution_count": 33,
   "id": "ae32926e",
   "metadata": {},
   "outputs": [
    {
     "data": {
      "text/plain": [
       "Pays                  object\n",
       "Année                  int64\n",
       "Valeur_population    float64\n",
       "dtype: object"
      ]
     },
     "execution_count": 33,
     "metadata": {},
     "output_type": "execute_result"
    }
   ],
   "source": [
    "population.dtypes"
   ]
  },
  {
   "cell_type": "code",
   "execution_count": 34,
   "id": "be4adeb2-249a-4a4f-b337-a768ee605870",
   "metadata": {},
   "outputs": [
    {
     "data": {
      "text/plain": [
       "(1416, 3)"
      ]
     },
     "execution_count": 34,
     "metadata": {},
     "output_type": "execute_result"
    }
   ],
   "source": [
    "population.shape"
   ]
  },
  {
   "cell_type": "code",
   "execution_count": 35,
   "id": "5a8d8723-8b38-4eec-ac1c-c91c5c355d4e",
   "metadata": {},
   "outputs": [
    {
     "data": {
      "text/html": [
       "<div>\n",
       "<style scoped>\n",
       "    .dataframe tbody tr th:only-of-type {\n",
       "        vertical-align: middle;\n",
       "    }\n",
       "\n",
       "    .dataframe tbody tr th {\n",
       "        vertical-align: top;\n",
       "    }\n",
       "\n",
       "    .dataframe thead th {\n",
       "        text-align: right;\n",
       "    }\n",
       "</style>\n",
       "<table border=\"1\" class=\"dataframe\">\n",
       "  <thead>\n",
       "    <tr style=\"text-align: right;\">\n",
       "      <th></th>\n",
       "      <th>Pays</th>\n",
       "      <th>Année</th>\n",
       "      <th>Valeur_population</th>\n",
       "    </tr>\n",
       "  </thead>\n",
       "  <tbody>\n",
       "    <tr>\n",
       "      <th>0</th>\n",
       "      <td>Afghanistan</td>\n",
       "      <td>2013</td>\n",
       "      <td>32269589.0</td>\n",
       "    </tr>\n",
       "    <tr>\n",
       "      <th>1</th>\n",
       "      <td>Afghanistan</td>\n",
       "      <td>2014</td>\n",
       "      <td>33370794.0</td>\n",
       "    </tr>\n",
       "    <tr>\n",
       "      <th>2</th>\n",
       "      <td>Afghanistan</td>\n",
       "      <td>2015</td>\n",
       "      <td>34413603.0</td>\n",
       "    </tr>\n",
       "    <tr>\n",
       "      <th>3</th>\n",
       "      <td>Afghanistan</td>\n",
       "      <td>2016</td>\n",
       "      <td>35383032.0</td>\n",
       "    </tr>\n",
       "    <tr>\n",
       "      <th>4</th>\n",
       "      <td>Afghanistan</td>\n",
       "      <td>2017</td>\n",
       "      <td>36296113.0</td>\n",
       "    </tr>\n",
       "  </tbody>\n",
       "</table>\n",
       "</div>"
      ],
      "text/plain": [
       "          Pays  Année  Valeur_population\n",
       "0  Afghanistan   2013         32269589.0\n",
       "1  Afghanistan   2014         33370794.0\n",
       "2  Afghanistan   2015         34413603.0\n",
       "3  Afghanistan   2016         35383032.0\n",
       "4  Afghanistan   2017         36296113.0"
      ]
     },
     "execution_count": 35,
     "metadata": {},
     "output_type": "execute_result"
    }
   ],
   "source": [
    "population.head()"
   ]
  },
  {
   "cell_type": "markdown",
   "id": "3cdef186-9fe8-4456-a537-d46effcf3c1b",
   "metadata": {},
   "source": [
    "Le dataframe est bien chargé avec 1416 lignes et 3 colonnes.\n",
    "De plus, tous les champs qui le composent sont bien typés."
   ]
  },
  {
   "cell_type": "markdown",
   "id": "d8f94e53",
   "metadata": {
    "tags": []
   },
   "source": [
    "### 4. Fichier d’aide alimentaire"
   ]
  },
  {
   "cell_type": "markdown",
   "id": "5c24dfa3-d9bb-416e-9632-0a5d7c77546e",
   "metadata": {},
   "source": [
    "#### 4.1. Importation du fichier"
   ]
  },
  {
   "cell_type": "code",
   "execution_count": 36,
   "id": "e40f485c",
   "metadata": {},
   "outputs": [],
   "source": [
    "aide_alimentaire = pd.read_csv('aide_alimentaire.csv')"
   ]
  },
  {
   "cell_type": "code",
   "execution_count": 37,
   "id": "c3c3c3d2-178c-402c-9a62-e443165ef61c",
   "metadata": {},
   "outputs": [
    {
     "data": {
      "text/html": [
       "<div>\n",
       "<style scoped>\n",
       "    .dataframe tbody tr th:only-of-type {\n",
       "        vertical-align: middle;\n",
       "    }\n",
       "\n",
       "    .dataframe tbody tr th {\n",
       "        vertical-align: top;\n",
       "    }\n",
       "\n",
       "    .dataframe thead th {\n",
       "        text-align: right;\n",
       "    }\n",
       "</style>\n",
       "<table border=\"1\" class=\"dataframe\">\n",
       "  <thead>\n",
       "    <tr style=\"text-align: right;\">\n",
       "      <th></th>\n",
       "      <th>Pays bénéficiaire</th>\n",
       "      <th>Année</th>\n",
       "      <th>Produit</th>\n",
       "      <th>Valeur</th>\n",
       "    </tr>\n",
       "  </thead>\n",
       "  <tbody>\n",
       "    <tr>\n",
       "      <th>0</th>\n",
       "      <td>Afghanistan</td>\n",
       "      <td>2013</td>\n",
       "      <td>Autres non-céréales</td>\n",
       "      <td>682</td>\n",
       "    </tr>\n",
       "    <tr>\n",
       "      <th>1</th>\n",
       "      <td>Afghanistan</td>\n",
       "      <td>2014</td>\n",
       "      <td>Autres non-céréales</td>\n",
       "      <td>335</td>\n",
       "    </tr>\n",
       "    <tr>\n",
       "      <th>2</th>\n",
       "      <td>Afghanistan</td>\n",
       "      <td>2013</td>\n",
       "      <td>Blé et Farin</td>\n",
       "      <td>39224</td>\n",
       "    </tr>\n",
       "    <tr>\n",
       "      <th>3</th>\n",
       "      <td>Afghanistan</td>\n",
       "      <td>2014</td>\n",
       "      <td>Blé et Farin</td>\n",
       "      <td>15160</td>\n",
       "    </tr>\n",
       "    <tr>\n",
       "      <th>4</th>\n",
       "      <td>Afghanistan</td>\n",
       "      <td>2013</td>\n",
       "      <td>Céréales</td>\n",
       "      <td>40504</td>\n",
       "    </tr>\n",
       "  </tbody>\n",
       "</table>\n",
       "</div>"
      ],
      "text/plain": [
       "  Pays bénéficiaire  Année              Produit  Valeur\n",
       "0       Afghanistan   2013  Autres non-céréales     682\n",
       "1       Afghanistan   2014  Autres non-céréales     335\n",
       "2       Afghanistan   2013         Blé et Farin   39224\n",
       "3       Afghanistan   2014         Blé et Farin   15160\n",
       "4       Afghanistan   2013             Céréales   40504"
      ]
     },
     "execution_count": 37,
     "metadata": {},
     "output_type": "execute_result"
    }
   ],
   "source": [
    "aide_alimentaire.head()"
   ]
  },
  {
   "cell_type": "code",
   "execution_count": 38,
   "id": "292e23ec-9702-4039-98d8-881b98981f68",
   "metadata": {},
   "outputs": [],
   "source": [
    "aide_alimentaire = aide_alimentaire.rename(columns={\"Valeur\":\"Quantité_aide\", \"Pays bénéficiaire\":\"Pays\"})"
   ]
  },
  {
   "cell_type": "code",
   "execution_count": 39,
   "id": "7dc8ab10-566f-41cf-9250-f31d0f08b085",
   "metadata": {},
   "outputs": [],
   "source": [
    "aide_alimentaire[\"Quantité_aide\"] = aide_alimentaire[\"Quantité_aide\"] * 1000"
   ]
  },
  {
   "cell_type": "markdown",
   "id": "3d352fe7-31ad-4540-b034-50faf302fe25",
   "metadata": {},
   "source": [
    "#### 4.2. Inspection des données"
   ]
  },
  {
   "cell_type": "code",
   "execution_count": 40,
   "id": "0724de98-fa65-403c-9b36-36459493d308",
   "metadata": {
    "tags": []
   },
   "outputs": [
    {
     "data": {
      "text/html": [
       "<div>\n",
       "<style scoped>\n",
       "    .dataframe tbody tr th:only-of-type {\n",
       "        vertical-align: middle;\n",
       "    }\n",
       "\n",
       "    .dataframe tbody tr th {\n",
       "        vertical-align: top;\n",
       "    }\n",
       "\n",
       "    .dataframe thead th {\n",
       "        text-align: right;\n",
       "    }\n",
       "</style>\n",
       "<table border=\"1\" class=\"dataframe\">\n",
       "  <thead>\n",
       "    <tr style=\"text-align: right;\">\n",
       "      <th></th>\n",
       "      <th>Pays</th>\n",
       "      <th>Année</th>\n",
       "      <th>Produit</th>\n",
       "      <th>Quantité_aide</th>\n",
       "    </tr>\n",
       "  </thead>\n",
       "  <tbody>\n",
       "    <tr>\n",
       "      <th>0</th>\n",
       "      <td>Afghanistan</td>\n",
       "      <td>2013</td>\n",
       "      <td>Autres non-céréales</td>\n",
       "      <td>682000</td>\n",
       "    </tr>\n",
       "    <tr>\n",
       "      <th>1</th>\n",
       "      <td>Afghanistan</td>\n",
       "      <td>2014</td>\n",
       "      <td>Autres non-céréales</td>\n",
       "      <td>335000</td>\n",
       "    </tr>\n",
       "    <tr>\n",
       "      <th>2</th>\n",
       "      <td>Afghanistan</td>\n",
       "      <td>2013</td>\n",
       "      <td>Blé et Farin</td>\n",
       "      <td>39224000</td>\n",
       "    </tr>\n",
       "    <tr>\n",
       "      <th>3</th>\n",
       "      <td>Afghanistan</td>\n",
       "      <td>2014</td>\n",
       "      <td>Blé et Farin</td>\n",
       "      <td>15160000</td>\n",
       "    </tr>\n",
       "    <tr>\n",
       "      <th>4</th>\n",
       "      <td>Afghanistan</td>\n",
       "      <td>2013</td>\n",
       "      <td>Céréales</td>\n",
       "      <td>40504000</td>\n",
       "    </tr>\n",
       "  </tbody>\n",
       "</table>\n",
       "</div>"
      ],
      "text/plain": [
       "          Pays  Année              Produit  Quantité_aide\n",
       "0  Afghanistan   2013  Autres non-céréales         682000\n",
       "1  Afghanistan   2014  Autres non-céréales         335000\n",
       "2  Afghanistan   2013         Blé et Farin       39224000\n",
       "3  Afghanistan   2014         Blé et Farin       15160000\n",
       "4  Afghanistan   2013             Céréales       40504000"
      ]
     },
     "execution_count": 40,
     "metadata": {},
     "output_type": "execute_result"
    }
   ],
   "source": [
    "aide_alimentaire.head()"
   ]
  },
  {
   "cell_type": "code",
   "execution_count": 41,
   "id": "0704a59c",
   "metadata": {},
   "outputs": [
    {
     "data": {
      "text/plain": [
       "Pays             object\n",
       "Année             int64\n",
       "Produit          object\n",
       "Quantité_aide     int64\n",
       "dtype: object"
      ]
     },
     "execution_count": 41,
     "metadata": {},
     "output_type": "execute_result"
    }
   ],
   "source": [
    "aide_alimentaire.dtypes"
   ]
  },
  {
   "cell_type": "code",
   "execution_count": 42,
   "id": "43f8ae92-9df5-4cc8-bc84-7fc31965cf6e",
   "metadata": {},
   "outputs": [
    {
     "data": {
      "text/plain": [
       "(1475, 4)"
      ]
     },
     "execution_count": 42,
     "metadata": {},
     "output_type": "execute_result"
    }
   ],
   "source": [
    "aide_alimentaire.shape"
   ]
  },
  {
   "cell_type": "code",
   "execution_count": 43,
   "id": "3b494f28-2b85-4484-b158-e4a05cc0a3da",
   "metadata": {},
   "outputs": [
    {
     "data": {
      "text/html": [
       "<div>\n",
       "<style scoped>\n",
       "    .dataframe tbody tr th:only-of-type {\n",
       "        vertical-align: middle;\n",
       "    }\n",
       "\n",
       "    .dataframe tbody tr th {\n",
       "        vertical-align: top;\n",
       "    }\n",
       "\n",
       "    .dataframe thead th {\n",
       "        text-align: right;\n",
       "    }\n",
       "</style>\n",
       "<table border=\"1\" class=\"dataframe\">\n",
       "  <thead>\n",
       "    <tr style=\"text-align: right;\">\n",
       "      <th></th>\n",
       "      <th>Pays</th>\n",
       "      <th>Année</th>\n",
       "      <th>Produit</th>\n",
       "      <th>Quantité_aide</th>\n",
       "    </tr>\n",
       "  </thead>\n",
       "  <tbody>\n",
       "    <tr>\n",
       "      <th>0</th>\n",
       "      <td>Afghanistan</td>\n",
       "      <td>2013</td>\n",
       "      <td>Autres non-céréales</td>\n",
       "      <td>682000</td>\n",
       "    </tr>\n",
       "    <tr>\n",
       "      <th>1</th>\n",
       "      <td>Afghanistan</td>\n",
       "      <td>2014</td>\n",
       "      <td>Autres non-céréales</td>\n",
       "      <td>335000</td>\n",
       "    </tr>\n",
       "    <tr>\n",
       "      <th>2</th>\n",
       "      <td>Afghanistan</td>\n",
       "      <td>2013</td>\n",
       "      <td>Blé et Farin</td>\n",
       "      <td>39224000</td>\n",
       "    </tr>\n",
       "    <tr>\n",
       "      <th>3</th>\n",
       "      <td>Afghanistan</td>\n",
       "      <td>2014</td>\n",
       "      <td>Blé et Farin</td>\n",
       "      <td>15160000</td>\n",
       "    </tr>\n",
       "    <tr>\n",
       "      <th>4</th>\n",
       "      <td>Afghanistan</td>\n",
       "      <td>2013</td>\n",
       "      <td>Céréales</td>\n",
       "      <td>40504000</td>\n",
       "    </tr>\n",
       "  </tbody>\n",
       "</table>\n",
       "</div>"
      ],
      "text/plain": [
       "          Pays  Année              Produit  Quantité_aide\n",
       "0  Afghanistan   2013  Autres non-céréales         682000\n",
       "1  Afghanistan   2014  Autres non-céréales         335000\n",
       "2  Afghanistan   2013         Blé et Farin       39224000\n",
       "3  Afghanistan   2014         Blé et Farin       15160000\n",
       "4  Afghanistan   2013             Céréales       40504000"
      ]
     },
     "execution_count": 43,
     "metadata": {},
     "output_type": "execute_result"
    }
   ],
   "source": [
    "aide_alimentaire.head()"
   ]
  },
  {
   "cell_type": "markdown",
   "id": "ba0b8564-b8ce-43d9-ae75-e445ff13b85f",
   "metadata": {},
   "source": [
    "Le dataframe est bien chargé avec 1475 lignes et 4 colonnes.\n",
    "De plus, tous les champs qui le composent sont bien typés."
   ]
  },
  {
   "cell_type": "markdown",
   "id": "f96d3099",
   "metadata": {},
   "source": [
    "## III. Les demandes de Marc"
   ]
  },
  {
   "cell_type": "code",
   "execution_count": 108,
   "id": "89f16f17-04d0-4891-b3d1-7d966033dbdf",
   "metadata": {},
   "outputs": [
    {
     "data": {
      "text/html": [
       "<div>\n",
       "<style scoped>\n",
       "    .dataframe tbody tr th:only-of-type {\n",
       "        vertical-align: middle;\n",
       "    }\n",
       "\n",
       "    .dataframe tbody tr th {\n",
       "        vertical-align: top;\n",
       "    }\n",
       "\n",
       "    .dataframe thead th {\n",
       "        text-align: right;\n",
       "    }\n",
       "</style>\n",
       "<table border=\"1\" class=\"dataframe\">\n",
       "  <thead>\n",
       "    <tr style=\"text-align: right;\">\n",
       "      <th></th>\n",
       "      <th>Pays</th>\n",
       "      <th>Année</th>\n",
       "      <th>Valeur_population</th>\n",
       "    </tr>\n",
       "  </thead>\n",
       "  <tbody>\n",
       "    <tr>\n",
       "      <th>4</th>\n",
       "      <td>Afghanistan</td>\n",
       "      <td>2017</td>\n",
       "      <td>36296113.0</td>\n",
       "    </tr>\n",
       "    <tr>\n",
       "      <th>10</th>\n",
       "      <td>Afrique du Sud</td>\n",
       "      <td>2017</td>\n",
       "      <td>57009756.0</td>\n",
       "    </tr>\n",
       "    <tr>\n",
       "      <th>16</th>\n",
       "      <td>Albanie</td>\n",
       "      <td>2017</td>\n",
       "      <td>2884169.0</td>\n",
       "    </tr>\n",
       "    <tr>\n",
       "      <th>22</th>\n",
       "      <td>Algérie</td>\n",
       "      <td>2017</td>\n",
       "      <td>41389189.0</td>\n",
       "    </tr>\n",
       "    <tr>\n",
       "      <th>28</th>\n",
       "      <td>Allemagne</td>\n",
       "      <td>2017</td>\n",
       "      <td>82658409.0</td>\n",
       "    </tr>\n",
       "    <tr>\n",
       "      <th>...</th>\n",
       "      <td>...</td>\n",
       "      <td>...</td>\n",
       "      <td>...</td>\n",
       "    </tr>\n",
       "    <tr>\n",
       "      <th>1390</th>\n",
       "      <td>Venezuela (République bolivarienne du)</td>\n",
       "      <td>2017</td>\n",
       "      <td>29402484.0</td>\n",
       "    </tr>\n",
       "    <tr>\n",
       "      <th>1396</th>\n",
       "      <td>Viet Nam</td>\n",
       "      <td>2017</td>\n",
       "      <td>94600648.0</td>\n",
       "    </tr>\n",
       "    <tr>\n",
       "      <th>1402</th>\n",
       "      <td>Yémen</td>\n",
       "      <td>2017</td>\n",
       "      <td>27834819.0</td>\n",
       "    </tr>\n",
       "    <tr>\n",
       "      <th>1408</th>\n",
       "      <td>Zambie</td>\n",
       "      <td>2017</td>\n",
       "      <td>16853599.0</td>\n",
       "    </tr>\n",
       "    <tr>\n",
       "      <th>1414</th>\n",
       "      <td>Zimbabwe</td>\n",
       "      <td>2017</td>\n",
       "      <td>14236595.0</td>\n",
       "    </tr>\n",
       "  </tbody>\n",
       "</table>\n",
       "<p>236 rows × 3 columns</p>\n",
       "</div>"
      ],
      "text/plain": [
       "                                        Pays  Année  Valeur_population\n",
       "4                                Afghanistan   2017         36296113.0\n",
       "10                            Afrique du Sud   2017         57009756.0\n",
       "16                                   Albanie   2017          2884169.0\n",
       "22                                   Algérie   2017         41389189.0\n",
       "28                                 Allemagne   2017         82658409.0\n",
       "...                                      ...    ...                ...\n",
       "1390  Venezuela (République bolivarienne du)   2017         29402484.0\n",
       "1396                                Viet Nam   2017         94600648.0\n",
       "1402                                   Yémen   2017         27834819.0\n",
       "1408                                  Zambie   2017         16853599.0\n",
       "1414                                Zimbabwe   2017         14236595.0\n",
       "\n",
       "[236 rows x 3 columns]"
      ]
     },
     "execution_count": 108,
     "metadata": {},
     "output_type": "execute_result"
    }
   ],
   "source": [
    "population.loc[population[\"Année\"]==2017, [\"Pays\",\"Année\",\"Valeur_population\"]]"
   ]
  },
  {
   "cell_type": "markdown",
   "id": "12106a04",
   "metadata": {},
   "source": [
    "### 1. La proportion de personnes en état de sous-nutrition sur 2017"
   ]
  },
  {
   "cell_type": "code",
   "execution_count": 44,
   "id": "91b432cb-d5be-4383-905d-94bb817a5f8d",
   "metadata": {},
   "outputs": [],
   "source": [
    "sousnutri_pop_2017 = pd.merge(population.loc[population[\"Année\"]==2017, [\"Pays\",\"Année\",\"Valeur_population\"]], \n",
    "                              sous_nutrition.loc[sous_nutrition[\"Année\"]==2017, [\"Pays\",\"Valeur_sous_nutrition\"]], on=\"Pays\")"
   ]
  },
  {
   "cell_type": "code",
   "execution_count": 114,
   "id": "d9b04bf0-4385-4752-9bc0-0d7604887a30",
   "metadata": {},
   "outputs": [
    {
     "data": {
      "text/html": [
       "<div>\n",
       "<style scoped>\n",
       "    .dataframe tbody tr th:only-of-type {\n",
       "        vertical-align: middle;\n",
       "    }\n",
       "\n",
       "    .dataframe tbody tr th {\n",
       "        vertical-align: top;\n",
       "    }\n",
       "\n",
       "    .dataframe thead th {\n",
       "        text-align: right;\n",
       "    }\n",
       "</style>\n",
       "<table border=\"1\" class=\"dataframe\">\n",
       "  <thead>\n",
       "    <tr style=\"text-align: right;\">\n",
       "      <th></th>\n",
       "      <th>Pays</th>\n",
       "      <th>Année</th>\n",
       "      <th>Valeur_population</th>\n",
       "      <th>Valeur_sous_nutrition</th>\n",
       "    </tr>\n",
       "  </thead>\n",
       "  <tbody>\n",
       "    <tr>\n",
       "      <th>0</th>\n",
       "      <td>Afghanistan</td>\n",
       "      <td>2017</td>\n",
       "      <td>36296113.0</td>\n",
       "      <td>10500000.0</td>\n",
       "    </tr>\n",
       "    <tr>\n",
       "      <th>1</th>\n",
       "      <td>Afrique du Sud</td>\n",
       "      <td>2017</td>\n",
       "      <td>57009756.0</td>\n",
       "      <td>3100000.0</td>\n",
       "    </tr>\n",
       "    <tr>\n",
       "      <th>2</th>\n",
       "      <td>Albanie</td>\n",
       "      <td>2017</td>\n",
       "      <td>2884169.0</td>\n",
       "      <td>100000.0</td>\n",
       "    </tr>\n",
       "    <tr>\n",
       "      <th>3</th>\n",
       "      <td>Algérie</td>\n",
       "      <td>2017</td>\n",
       "      <td>41389189.0</td>\n",
       "      <td>1300000.0</td>\n",
       "    </tr>\n",
       "    <tr>\n",
       "      <th>4</th>\n",
       "      <td>Allemagne</td>\n",
       "      <td>2017</td>\n",
       "      <td>82658409.0</td>\n",
       "      <td>0.0</td>\n",
       "    </tr>\n",
       "  </tbody>\n",
       "</table>\n",
       "</div>"
      ],
      "text/plain": [
       "             Pays  Année  Valeur_population  Valeur_sous_nutrition\n",
       "0     Afghanistan   2017         36296113.0             10500000.0\n",
       "1  Afrique du Sud   2017         57009756.0              3100000.0\n",
       "2         Albanie   2017          2884169.0               100000.0\n",
       "3         Algérie   2017         41389189.0              1300000.0\n",
       "4       Allemagne   2017         82658409.0                    0.0"
      ]
     },
     "execution_count": 114,
     "metadata": {},
     "output_type": "execute_result"
    }
   ],
   "source": [
    "sousnutri_pop_2017.head()"
   ]
  },
  {
   "cell_type": "code",
   "execution_count": 113,
   "id": "a3b12968-3cb1-4343-89f8-456e74dd190b",
   "metadata": {},
   "outputs": [
    {
     "data": {
      "text/plain": [
       "7.1"
      ]
     },
     "execution_count": 113,
     "metadata": {},
     "output_type": "execute_result"
    }
   ],
   "source": [
    "round((sousnutri_pop_2017[\"Valeur_sous_nutrition\"].sum() / sousnutri_pop_2017[\"Valeur_population\"].sum())*100, 2)"
   ]
  },
  {
   "cell_type": "markdown",
   "id": "a7c98e92-36ae-4047-8ceb-af9d3c0d60d4",
   "metadata": {},
   "source": [
    "La proportion de personnes en état de sous-nutrition en 2017 est de 7,1 %\n"
   ]
  },
  {
   "cell_type": "markdown",
   "id": "57f67375-429b-4817-a3df-b39f8218be22",
   "metadata": {},
   "source": [
    "### 2. Le nombre théorique de personnes qui pourraient être nourries."
   ]
  },
  {
   "cell_type": "markdown",
   "id": "ba059b38-37ba-4f64-807e-9b3f35e9abb7",
   "metadata": {},
   "source": [
    "On commence par calculer la disponibilité alimentaire mondiale:"
   ]
  },
  {
   "cell_type": "code",
   "execution_count": 47,
   "id": "e169a19f-ef26-4571-b525-3f3ec04a093e",
   "metadata": {},
   "outputs": [],
   "source": [
    "all_products = pd.merge((dispo_alimentaire[[\"Pays\",\"Disponibilité alimentaire (Kcal/personne/jour)\"]]), \n",
    "                        (population.loc[population[\"Année\"]==2017, [\"Pays\",\"Valeur_population\"]]), on=\"Pays\", how=\"left\")"
   ]
  },
  {
   "cell_type": "code",
   "execution_count": 48,
   "id": "1b96c541-03c5-4eda-a0d2-ae2b81009d0e",
   "metadata": {},
   "outputs": [],
   "source": [
    "all_products[\"dispo_par_pays\"] = all_products[\"Disponibilité alimentaire (Kcal/personne/jour)\"] * all_products[\"Valeur_population\"]"
   ]
  },
  {
   "cell_type": "code",
   "execution_count": 49,
   "id": "21ae298c-1b53-40f5-a132-74e3fa78de82",
   "metadata": {},
   "outputs": [
    {
     "data": {
      "text/html": [
       "<div>\n",
       "<style scoped>\n",
       "    .dataframe tbody tr th:only-of-type {\n",
       "        vertical-align: middle;\n",
       "    }\n",
       "\n",
       "    .dataframe tbody tr th {\n",
       "        vertical-align: top;\n",
       "    }\n",
       "\n",
       "    .dataframe thead th {\n",
       "        text-align: right;\n",
       "    }\n",
       "</style>\n",
       "<table border=\"1\" class=\"dataframe\">\n",
       "  <thead>\n",
       "    <tr style=\"text-align: right;\">\n",
       "      <th></th>\n",
       "      <th>Pays</th>\n",
       "      <th>Disponibilité alimentaire (Kcal/personne/jour)</th>\n",
       "      <th>Valeur_population</th>\n",
       "      <th>dispo_par_pays</th>\n",
       "    </tr>\n",
       "  </thead>\n",
       "  <tbody>\n",
       "    <tr>\n",
       "      <th>0</th>\n",
       "      <td>Afghanistan</td>\n",
       "      <td>5.0</td>\n",
       "      <td>36296113.0</td>\n",
       "      <td>181480565.0</td>\n",
       "    </tr>\n",
       "    <tr>\n",
       "      <th>1</th>\n",
       "      <td>Afghanistan</td>\n",
       "      <td>1.0</td>\n",
       "      <td>36296113.0</td>\n",
       "      <td>36296113.0</td>\n",
       "    </tr>\n",
       "    <tr>\n",
       "      <th>2</th>\n",
       "      <td>Afghanistan</td>\n",
       "      <td>1.0</td>\n",
       "      <td>36296113.0</td>\n",
       "      <td>36296113.0</td>\n",
       "    </tr>\n",
       "    <tr>\n",
       "      <th>3</th>\n",
       "      <td>Afghanistan</td>\n",
       "      <td>0.0</td>\n",
       "      <td>36296113.0</td>\n",
       "      <td>0.0</td>\n",
       "    </tr>\n",
       "    <tr>\n",
       "      <th>4</th>\n",
       "      <td>Afghanistan</td>\n",
       "      <td>4.0</td>\n",
       "      <td>36296113.0</td>\n",
       "      <td>145184452.0</td>\n",
       "    </tr>\n",
       "  </tbody>\n",
       "</table>\n",
       "</div>"
      ],
      "text/plain": [
       "          Pays  Disponibilité alimentaire (Kcal/personne/jour)  \\\n",
       "0  Afghanistan                                             5.0   \n",
       "1  Afghanistan                                             1.0   \n",
       "2  Afghanistan                                             1.0   \n",
       "3  Afghanistan                                             0.0   \n",
       "4  Afghanistan                                             4.0   \n",
       "\n",
       "   Valeur_population  dispo_par_pays  \n",
       "0         36296113.0     181480565.0  \n",
       "1         36296113.0      36296113.0  \n",
       "2         36296113.0      36296113.0  \n",
       "3         36296113.0             0.0  \n",
       "4         36296113.0     145184452.0  "
      ]
     },
     "execution_count": 49,
     "metadata": {},
     "output_type": "execute_result"
    }
   ],
   "source": [
    "all_products.head()"
   ]
  },
  {
   "cell_type": "code",
   "execution_count": 50,
   "id": "c267831a-85a0-4c72-bf66-183687726e55",
   "metadata": {},
   "outputs": [],
   "source": [
    "dispo_mondiale = all_products[\"dispo_par_pays\"].sum()\n"
   ]
  },
  {
   "cell_type": "code",
   "execution_count": 51,
   "id": "1ac0a981-13a3-4335-af25-3c02a9c4df65",
   "metadata": {},
   "outputs": [
    {
     "data": {
      "text/plain": [
       "20918984627331.0"
      ]
     },
     "execution_count": 51,
     "metadata": {},
     "output_type": "execute_result"
    }
   ],
   "source": [
    "dispo_mondiale\n"
   ]
  },
  {
   "cell_type": "markdown",
   "id": "6d066332-e924-4e34-84b5-9c1084f82296",
   "metadata": {},
   "source": [
    "Avec une consommation alimentaire moyenne mondiale est de 2500 kcalories par personne par jour, on aura:"
   ]
  },
  {
   "cell_type": "code",
   "execution_count": 52,
   "id": "dff76272-f821-498d-a824-34563efbe672",
   "metadata": {},
   "outputs": [
    {
     "data": {
      "text/plain": [
       "8367593850.93"
      ]
     },
     "execution_count": 52,
     "metadata": {},
     "output_type": "execute_result"
    }
   ],
   "source": [
    "round(dispo_mondiale / 2500,2)"
   ]
  },
  {
   "cell_type": "markdown",
   "id": "88115aab-78d3-496e-ad71-c0f140ab213c",
   "metadata": {},
   "source": [
    "Le nombre théorique de personnes qui pourraient être nourries est de 8 367 593 850.93\n",
    "\n",
    "La population mondiale est 7 milliards  de personne environ. \n",
    "\n",
    "Nous disposons donc théoriquement assez de disponibilité alimentaire pour nourrir toute la planète."
   ]
  },
  {
   "cell_type": "markdown",
   "id": "e50ab237-02d6-4ccc-a5ac-cc5bdd1a4b75",
   "metadata": {},
   "source": [
    "### 3. Le nombre théorique de personnes qui pourraient être nourries en fonction de la disponibilité alimentaire d'origine végétale."
   ]
  },
  {
   "cell_type": "code",
   "execution_count": 53,
   "id": "2c9a163e-0460-429f-8a91-1cd74f774cff",
   "metadata": {},
   "outputs": [],
   "source": [
    "vegetale = pd.merge((dispo_alimentaire[[\"Pays\",\"Produit\", \"Origine\",\"Disponibilité alimentaire (Kcal/personne/jour)\"]]), \n",
    "                    (population.loc[population[\"Année\"]==2017, [\"Pays\",\"Valeur_population\"]]), on=\"Pays\")"
   ]
  },
  {
   "cell_type": "code",
   "execution_count": 54,
   "id": "7c7436e8-1111-402a-803f-f4c0a1502035",
   "metadata": {},
   "outputs": [],
   "source": [
    "vegetale = vegetale[vegetale[\"Origine\"]==\"vegetale\"]"
   ]
  },
  {
   "cell_type": "code",
   "execution_count": 55,
   "id": "a9eb6982-6ca7-4470-99ad-5b9501890ce3",
   "metadata": {},
   "outputs": [],
   "source": [
    "vegetale[\"dispo_pays\"] = vegetale[\"Disponibilité alimentaire (Kcal/personne/jour)\"]*vegetale[\"Valeur_population\"]"
   ]
  },
  {
   "cell_type": "code",
   "execution_count": 56,
   "id": "f4155d8f-1208-4a13-8ad3-5d372e1712a9",
   "metadata": {},
   "outputs": [
    {
     "data": {
      "text/html": [
       "<div>\n",
       "<style scoped>\n",
       "    .dataframe tbody tr th:only-of-type {\n",
       "        vertical-align: middle;\n",
       "    }\n",
       "\n",
       "    .dataframe tbody tr th {\n",
       "        vertical-align: top;\n",
       "    }\n",
       "\n",
       "    .dataframe thead th {\n",
       "        text-align: right;\n",
       "    }\n",
       "</style>\n",
       "<table border=\"1\" class=\"dataframe\">\n",
       "  <thead>\n",
       "    <tr style=\"text-align: right;\">\n",
       "      <th></th>\n",
       "      <th>Pays</th>\n",
       "      <th>Produit</th>\n",
       "      <th>Origine</th>\n",
       "      <th>Disponibilité alimentaire (Kcal/personne/jour)</th>\n",
       "      <th>Valeur_population</th>\n",
       "      <th>dispo_pays</th>\n",
       "    </tr>\n",
       "  </thead>\n",
       "  <tbody>\n",
       "    <tr>\n",
       "      <th>1</th>\n",
       "      <td>Afghanistan</td>\n",
       "      <td>Agrumes, Autres</td>\n",
       "      <td>vegetale</td>\n",
       "      <td>1.0</td>\n",
       "      <td>36296113.0</td>\n",
       "      <td>3.629611e+07</td>\n",
       "    </tr>\n",
       "    <tr>\n",
       "      <th>2</th>\n",
       "      <td>Afghanistan</td>\n",
       "      <td>Aliments pour enfants</td>\n",
       "      <td>vegetale</td>\n",
       "      <td>1.0</td>\n",
       "      <td>36296113.0</td>\n",
       "      <td>3.629611e+07</td>\n",
       "    </tr>\n",
       "    <tr>\n",
       "      <th>3</th>\n",
       "      <td>Afghanistan</td>\n",
       "      <td>Ananas</td>\n",
       "      <td>vegetale</td>\n",
       "      <td>0.0</td>\n",
       "      <td>36296113.0</td>\n",
       "      <td>0.000000e+00</td>\n",
       "    </tr>\n",
       "    <tr>\n",
       "      <th>4</th>\n",
       "      <td>Afghanistan</td>\n",
       "      <td>Bananes</td>\n",
       "      <td>vegetale</td>\n",
       "      <td>4.0</td>\n",
       "      <td>36296113.0</td>\n",
       "      <td>1.451845e+08</td>\n",
       "    </tr>\n",
       "    <tr>\n",
       "      <th>6</th>\n",
       "      <td>Afghanistan</td>\n",
       "      <td>Bière</td>\n",
       "      <td>vegetale</td>\n",
       "      <td>0.0</td>\n",
       "      <td>36296113.0</td>\n",
       "      <td>0.000000e+00</td>\n",
       "    </tr>\n",
       "    <tr>\n",
       "      <th>7</th>\n",
       "      <td>Afghanistan</td>\n",
       "      <td>Blé</td>\n",
       "      <td>vegetale</td>\n",
       "      <td>1369.0</td>\n",
       "      <td>36296113.0</td>\n",
       "      <td>4.968938e+10</td>\n",
       "    </tr>\n",
       "    <tr>\n",
       "      <th>8</th>\n",
       "      <td>Afghanistan</td>\n",
       "      <td>Boissons Alcooliques</td>\n",
       "      <td>vegetale</td>\n",
       "      <td>0.0</td>\n",
       "      <td>36296113.0</td>\n",
       "      <td>0.000000e+00</td>\n",
       "    </tr>\n",
       "    <tr>\n",
       "      <th>9</th>\n",
       "      <td>Afghanistan</td>\n",
       "      <td>Café</td>\n",
       "      <td>vegetale</td>\n",
       "      <td>0.0</td>\n",
       "      <td>36296113.0</td>\n",
       "      <td>0.000000e+00</td>\n",
       "    </tr>\n",
       "    <tr>\n",
       "      <th>10</th>\n",
       "      <td>Afghanistan</td>\n",
       "      <td>Coco (Incl Coprah)</td>\n",
       "      <td>vegetale</td>\n",
       "      <td>0.0</td>\n",
       "      <td>36296113.0</td>\n",
       "      <td>0.000000e+00</td>\n",
       "    </tr>\n",
       "    <tr>\n",
       "      <th>12</th>\n",
       "      <td>Afghanistan</td>\n",
       "      <td>Céréales, Autres</td>\n",
       "      <td>vegetale</td>\n",
       "      <td>0.0</td>\n",
       "      <td>36296113.0</td>\n",
       "      <td>0.000000e+00</td>\n",
       "    </tr>\n",
       "  </tbody>\n",
       "</table>\n",
       "</div>"
      ],
      "text/plain": [
       "           Pays                Produit   Origine  \\\n",
       "1   Afghanistan        Agrumes, Autres  vegetale   \n",
       "2   Afghanistan  Aliments pour enfants  vegetale   \n",
       "3   Afghanistan                 Ananas  vegetale   \n",
       "4   Afghanistan                Bananes  vegetale   \n",
       "6   Afghanistan                  Bière  vegetale   \n",
       "7   Afghanistan                    Blé  vegetale   \n",
       "8   Afghanistan   Boissons Alcooliques  vegetale   \n",
       "9   Afghanistan                   Café  vegetale   \n",
       "10  Afghanistan     Coco (Incl Coprah)  vegetale   \n",
       "12  Afghanistan       Céréales, Autres  vegetale   \n",
       "\n",
       "    Disponibilité alimentaire (Kcal/personne/jour)  Valeur_population  \\\n",
       "1                                              1.0         36296113.0   \n",
       "2                                              1.0         36296113.0   \n",
       "3                                              0.0         36296113.0   \n",
       "4                                              4.0         36296113.0   \n",
       "6                                              0.0         36296113.0   \n",
       "7                                           1369.0         36296113.0   \n",
       "8                                              0.0         36296113.0   \n",
       "9                                              0.0         36296113.0   \n",
       "10                                             0.0         36296113.0   \n",
       "12                                             0.0         36296113.0   \n",
       "\n",
       "      dispo_pays  \n",
       "1   3.629611e+07  \n",
       "2   3.629611e+07  \n",
       "3   0.000000e+00  \n",
       "4   1.451845e+08  \n",
       "6   0.000000e+00  \n",
       "7   4.968938e+10  \n",
       "8   0.000000e+00  \n",
       "9   0.000000e+00  \n",
       "10  0.000000e+00  \n",
       "12  0.000000e+00  "
      ]
     },
     "execution_count": 56,
     "metadata": {},
     "output_type": "execute_result"
    }
   ],
   "source": [
    "vegetale.head(10)"
   ]
  },
  {
   "cell_type": "code",
   "execution_count": 57,
   "id": "09e984e7-6762-4562-87a5-998a9f82636e",
   "metadata": {},
   "outputs": [],
   "source": [
    "nbr_theorique = round((vegetale[\"dispo_pays\"].sum())/ 2500, 2)"
   ]
  },
  {
   "cell_type": "code",
   "execution_count": 58,
   "id": "c98a06b2-f8d6-4836-ace9-a5a2245ab904",
   "metadata": {},
   "outputs": [
    {
     "data": {
      "text/plain": [
       "6904305684.6"
      ]
     },
     "execution_count": 58,
     "metadata": {},
     "output_type": "execute_result"
    }
   ],
   "source": [
    "nbr_theorique"
   ]
  },
  {
   "cell_type": "markdown",
   "id": "c5695332-6c6b-4544-9a16-470c3457d7db",
   "metadata": {},
   "source": [
    "Le nombre théorique de personnes qui pourraient être nourries en fonction de la disponibilité alimentaire d'origine végétale est de 6 904 305 684.6\n",
    "\n",
    "Les "
   ]
  },
  {
   "cell_type": "markdown",
   "id": "20c6e6b0-c936-489d-a435-035d51d50445",
   "metadata": {},
   "source": [
    "### 4. L’utilisation de la disponibilité intérieure"
   ]
  },
  {
   "cell_type": "code",
   "execution_count": 59,
   "id": "0fa9b296-cc5e-41c8-bf54-122d2904260c",
   "metadata": {},
   "outputs": [],
   "source": [
    "# acquisitions =  (\"Importations - Quantité\") - (\"Exportations - Quantité\") + (\"Production\") + (\"Variation de stock\")\n",
    "# utilisations = (\"Aliments pour animaux\") + (\"Autres Utilisations\") + (\"Nourriture\") + (\"Pertes\") + (\"Semences\") + (\"Traitement\")\n",
    "# acquisitions = Disponibilité intérieure = utilisations\n",
    "acquisitions = [\"Exportations - Quantité\", \"Importations - Quantité\",\"Production\", \"Variation de stock\"]\n",
    "utilisations = [\"Aliments pour animaux\", \"Autres Utilisations\", \"Nourriture\", \"Pertes\", \"Semences\", \"Traitement\"]"
   ]
  },
  {
   "cell_type": "code",
   "execution_count": 60,
   "id": "329834f3-1ea3-46ef-8ae5-2a2d95453b0e",
   "metadata": {},
   "outputs": [],
   "source": [
    "proportion_utilisation = dispo_alimentaire[[\"Aliments pour animaux\", \"Autres Utilisations\", \"Nourriture\", \"Pertes\", \"Semences\", \"Traitement\", \"Disponibilité intérieure\"]].copy()"
   ]
  },
  {
   "cell_type": "code",
   "execution_count": 61,
   "id": "3cc97529-9ce1-4e72-b360-e60eef6dae4f",
   "metadata": {},
   "outputs": [
    {
     "data": {
      "text/html": [
       "<div>\n",
       "<style scoped>\n",
       "    .dataframe tbody tr th:only-of-type {\n",
       "        vertical-align: middle;\n",
       "    }\n",
       "\n",
       "    .dataframe tbody tr th {\n",
       "        vertical-align: top;\n",
       "    }\n",
       "\n",
       "    .dataframe thead th {\n",
       "        text-align: right;\n",
       "    }\n",
       "</style>\n",
       "<table border=\"1\" class=\"dataframe\">\n",
       "  <thead>\n",
       "    <tr style=\"text-align: right;\">\n",
       "      <th></th>\n",
       "      <th>Aliments pour animaux</th>\n",
       "      <th>Autres Utilisations</th>\n",
       "      <th>Nourriture</th>\n",
       "      <th>Pertes</th>\n",
       "      <th>Semences</th>\n",
       "      <th>Traitement</th>\n",
       "      <th>Disponibilité intérieure</th>\n",
       "    </tr>\n",
       "  </thead>\n",
       "  <tbody>\n",
       "    <tr>\n",
       "      <th>0</th>\n",
       "      <td>0.0</td>\n",
       "      <td>0.0</td>\n",
       "      <td>53000000.0</td>\n",
       "      <td>0.0</td>\n",
       "      <td>0.0</td>\n",
       "      <td>0.0</td>\n",
       "      <td>53000000.0</td>\n",
       "    </tr>\n",
       "    <tr>\n",
       "      <th>1</th>\n",
       "      <td>0.0</td>\n",
       "      <td>0.0</td>\n",
       "      <td>39000000.0</td>\n",
       "      <td>2000000.0</td>\n",
       "      <td>0.0</td>\n",
       "      <td>0.0</td>\n",
       "      <td>41000000.0</td>\n",
       "    </tr>\n",
       "    <tr>\n",
       "      <th>2</th>\n",
       "      <td>0.0</td>\n",
       "      <td>0.0</td>\n",
       "      <td>2000000.0</td>\n",
       "      <td>0.0</td>\n",
       "      <td>0.0</td>\n",
       "      <td>0.0</td>\n",
       "      <td>2000000.0</td>\n",
       "    </tr>\n",
       "    <tr>\n",
       "      <th>3</th>\n",
       "      <td>0.0</td>\n",
       "      <td>0.0</td>\n",
       "      <td>0.0</td>\n",
       "      <td>0.0</td>\n",
       "      <td>0.0</td>\n",
       "      <td>0.0</td>\n",
       "      <td>0.0</td>\n",
       "    </tr>\n",
       "    <tr>\n",
       "      <th>4</th>\n",
       "      <td>0.0</td>\n",
       "      <td>0.0</td>\n",
       "      <td>82000000.0</td>\n",
       "      <td>0.0</td>\n",
       "      <td>0.0</td>\n",
       "      <td>0.0</td>\n",
       "      <td>82000000.0</td>\n",
       "    </tr>\n",
       "  </tbody>\n",
       "</table>\n",
       "</div>"
      ],
      "text/plain": [
       "   Aliments pour animaux  Autres Utilisations  Nourriture     Pertes  \\\n",
       "0                    0.0                  0.0  53000000.0        0.0   \n",
       "1                    0.0                  0.0  39000000.0  2000000.0   \n",
       "2                    0.0                  0.0   2000000.0        0.0   \n",
       "3                    0.0                  0.0         0.0        0.0   \n",
       "4                    0.0                  0.0  82000000.0        0.0   \n",
       "\n",
       "   Semences  Traitement  Disponibilité intérieure  \n",
       "0       0.0         0.0                53000000.0  \n",
       "1       0.0         0.0                41000000.0  \n",
       "2       0.0         0.0                 2000000.0  \n",
       "3       0.0         0.0                       0.0  \n",
       "4       0.0         0.0                82000000.0  "
      ]
     },
     "execution_count": 61,
     "metadata": {},
     "output_type": "execute_result"
    }
   ],
   "source": [
    "proportion_utilisation.head()"
   ]
  },
  {
   "cell_type": "markdown",
   "id": "d7cda747-ee1b-4099-9407-e2c560e61ab8",
   "metadata": {},
   "source": [
    "#### Calcul des proportions"
   ]
  },
  {
   "cell_type": "code",
   "execution_count": 62,
   "id": "11f22055-037c-40d2-aa8b-29ea887854c0",
   "metadata": {},
   "outputs": [],
   "source": [
    "utilisation_animale = ((proportion_utilisation[\"Aliments pour animaux\"].sum())/ (proportion_utilisation[\"Disponibilité intérieure\"].sum()))*100"
   ]
  },
  {
   "cell_type": "code",
   "execution_count": 63,
   "id": "0a8f942d-a1fe-492e-b7c5-8a4311107280",
   "metadata": {},
   "outputs": [
    {
     "data": {
      "text/plain": [
       "13.24"
      ]
     },
     "execution_count": 63,
     "metadata": {},
     "output_type": "execute_result"
    }
   ],
   "source": [
    "round(utilisation_animale, 2)"
   ]
  },
  {
   "cell_type": "markdown",
   "id": "5839d8fa-02f9-4589-8d9a-330610de7af1",
   "metadata": {
    "tags": []
   },
   "source": [
    "La proportion de la disponibilité destinée à l'alimentation des animaux est de : 13.24 %"
   ]
  },
  {
   "cell_type": "code",
   "execution_count": 64,
   "id": "102934b7-870d-4545-a447-ef2e8cadc0fe",
   "metadata": {},
   "outputs": [],
   "source": [
    "utilisation_humaine = ((proportion_utilisation[\"Nourriture\"].sum())/ (proportion_utilisation[\"Disponibilité intérieure\"].sum()))*100"
   ]
  },
  {
   "cell_type": "code",
   "execution_count": 65,
   "id": "b6ab7a02-d60f-4c40-8b4e-2313e0fe6d08",
   "metadata": {},
   "outputs": [
    {
     "data": {
      "text/plain": [
       "49.51"
      ]
     },
     "execution_count": 65,
     "metadata": {},
     "output_type": "execute_result"
    }
   ],
   "source": [
    "round(utilisation_humaine, 2)"
   ]
  },
  {
   "cell_type": "markdown",
   "id": "d333af6b-2b23-462e-87a9-95ff402f6437",
   "metadata": {
    "tags": []
   },
   "source": [
    "La proportion de la disponibilité destinée à l'alimentation humaine est de : 49.51 %"
   ]
  },
  {
   "cell_type": "code",
   "execution_count": 66,
   "id": "b03aaee0-b9cb-4a8d-9754-26666655ef16",
   "metadata": {},
   "outputs": [],
   "source": [
    "utilisation_perdue = ((proportion_utilisation[\"Pertes\"].sum())/ (proportion_utilisation[\"Disponibilité intérieure\"].sum()))*100"
   ]
  },
  {
   "cell_type": "code",
   "execution_count": 67,
   "id": "e7f48ff1-e3cd-437b-803d-cd5d5dd9d1c4",
   "metadata": {},
   "outputs": [
    {
     "data": {
      "text/plain": [
       "4.61"
      ]
     },
     "execution_count": 67,
     "metadata": {},
     "output_type": "execute_result"
    }
   ],
   "source": [
    "round(utilisation_perdue, 2)"
   ]
  },
  {
   "cell_type": "markdown",
   "id": "5d0c09d8-f649-43f6-a258-0001e6049f30",
   "metadata": {
    "tags": []
   },
   "source": [
    "La proportion de la disponibilité qui est perdue de : 4.61 %"
   ]
  },
  {
   "cell_type": "code",
   "execution_count": 68,
   "id": "4a62645e-f666-46de-8f70-5fd07690bcf8",
   "metadata": {},
   "outputs": [],
   "source": [
    "nourriture_autres = ((proportion_utilisation[\"Autres Utilisations\"].sum() + proportion_utilisation[\"Semences\"].sum() + proportion_utilisation[\"Traitement\"].sum())/ (proportion_utilisation[\"Disponibilité intérieure\"].sum()))*100"
   ]
  },
  {
   "cell_type": "code",
   "execution_count": 69,
   "id": "50ec2eb0-85ac-44ae-b8c2-261039a8e35e",
   "metadata": {},
   "outputs": [
    {
     "data": {
      "text/plain": [
       "32.74"
      ]
     },
     "execution_count": 69,
     "metadata": {},
     "output_type": "execute_result"
    }
   ],
   "source": [
    "round(nourriture_autres, 2)"
   ]
  },
  {
   "cell_type": "markdown",
   "id": "fc5f7f58-d44f-4c2f-9476-826b26c42234",
   "metadata": {
    "tags": []
   },
   "source": [
    "##### Vérification"
   ]
  },
  {
   "cell_type": "code",
   "execution_count": 70,
   "id": "bf5272dc-333b-4576-b554-06a108c00ed7",
   "metadata": {},
   "outputs": [],
   "source": [
    "verification_utilisation = utilisation_humaine + utilisation_animale + utilisation_perdue + nourriture_autres "
   ]
  },
  {
   "cell_type": "code",
   "execution_count": 71,
   "id": "1f92e8b4-e7b9-47e7-87d8-f4e5af67c553",
   "metadata": {},
   "outputs": [
    {
     "data": {
      "text/plain": [
       "100.097451577288"
      ]
     },
     "execution_count": 71,
     "metadata": {},
     "output_type": "execute_result"
    }
   ],
   "source": [
    "verification_utilisation"
   ]
  },
  {
   "cell_type": "markdown",
   "id": "36533108-3657-4d56-bd9f-f7b97b27974f",
   "metadata": {
    "tags": []
   },
   "source": [
    "Ce résultat confirme notre formule : la somme des utilisations est égale à la disponibilité intérieure."
   ]
  },
  {
   "cell_type": "markdown",
   "id": "57ca8138-cb1a-4684-8b39-a4567bccf841",
   "metadata": {
    "tags": []
   },
   "source": [
    "##### Représentation graphique"
   ]
  },
  {
   "cell_type": "code",
   "execution_count": 72,
   "id": "5c4550ed-0ecf-4e39-9ec1-4cf310254754",
   "metadata": {},
   "outputs": [],
   "source": [
    "liste_proportion_utilisations = [utilisation_humaine, utilisation_animale, utilisation_perdue, nourriture_autres]"
   ]
  },
  {
   "cell_type": "code",
   "execution_count": 73,
   "id": "d5c16261-2546-41e7-981a-37a302283437",
   "metadata": {},
   "outputs": [
    {
     "data": {
      "image/png": "[encoded data removed]",
      "text/plain": [
       "<Figure size 864x576 with 1 Axes>"
      ]
     },
     "metadata": {},
     "output_type": "display_data"
    }
   ],
   "source": [
    "plt.figure(figsize=(12,8))\n",
    "plt.title(\"Répartition de la disponibilité globale\")\n",
    "\n",
    "labels = \"Nourriture humaine\", \"Aliments pour animaux\", \"Pertes\", \"Autres utilisations\"\n",
    "colors = ['yellowgreen', 'gold', 'lightskyblue','lightcoral' ]\n",
    "explode = [0.01,0,0,0]\n",
    "\n",
    "plt.pie(x=liste_proportion_utilisations,labels=labels, colors=colors, autopct='%1.2f%%', startangle=90, explode=explode)\n",
    "\n",
    "plt.axis('equal')\n",
    "\n",
    "plt.savefig('PieChart01.png')"
   ]
  },
  {
   "cell_type": "code",
   "execution_count": null,
   "id": "95e52017-6886-4ad3-ad3e-ccb1de9ee984",
   "metadata": {},
   "outputs": [],
   "source": []
  },
  {
   "cell_type": "markdown",
   "id": "d8f58990-7e1d-461d-aea6-a2aa5e8afbf2",
   "metadata": {},
   "source": [
    "## III. Les demandes de Mélanie"
   ]
  },
  {
   "cell_type": "markdown",
   "id": "9bc1a17f-349c-48b2-bdda-9d7ffeab77d1",
   "metadata": {},
   "source": [
    "### 1. Les pays pour lesquels la proportion de personnes sous-alimentées est la plus forte en 2017"
   ]
  },
  {
   "cell_type": "code",
   "execution_count": 74,
   "id": "767403d0-cdc5-4b8e-a661-a6598639bdc2",
   "metadata": {},
   "outputs": [],
   "source": [
    "sousnutri_par_pays = sousnutri_pop_2017.copy()"
   ]
  },
  {
   "cell_type": "code",
   "execution_count": 75,
   "id": "a4a2a363-9c99-4044-9d65-c147f8ce5355",
   "metadata": {},
   "outputs": [],
   "source": [
    "sousnutri_par_pays[\"Personnes en sous nutrition en 2017 (en %)\"] = (sousnutri_par_pays[\"Valeur_sous_nutrition\"] /sousnutri_par_pays[\"Valeur_population\"])*100"
   ]
  },
  {
   "cell_type": "code",
   "execution_count": 76,
   "id": "5cb46fa1-9c0e-487b-84e7-6292d0053148",
   "metadata": {},
   "outputs": [],
   "source": [
    "sousnutri_par_pays.sort_values(by=\"Personnes en sous nutrition en 2017 (en %)\", ascending = False, inplace=True)"
   ]
  },
  {
   "cell_type": "code",
   "execution_count": 77,
   "id": "d4e97e82-5610-4591-9c62-0c9df72981c0",
   "metadata": {},
   "outputs": [
    {
     "data": {
      "text/html": [
       "<div>\n",
       "<style scoped>\n",
       "    .dataframe tbody tr th:only-of-type {\n",
       "        vertical-align: middle;\n",
       "    }\n",
       "\n",
       "    .dataframe tbody tr th {\n",
       "        vertical-align: top;\n",
       "    }\n",
       "\n",
       "    .dataframe thead th {\n",
       "        text-align: right;\n",
       "    }\n",
       "</style>\n",
       "<table border=\"1\" class=\"dataframe\">\n",
       "  <thead>\n",
       "    <tr style=\"text-align: right;\">\n",
       "      <th></th>\n",
       "      <th>Pays</th>\n",
       "      <th>Année</th>\n",
       "      <th>Valeur_population</th>\n",
       "      <th>Valeur_sous_nutrition</th>\n",
       "      <th>Personnes en sous nutrition en 2017 (en %)</th>\n",
       "    </tr>\n",
       "  </thead>\n",
       "  <tbody>\n",
       "    <tr>\n",
       "      <th>78</th>\n",
       "      <td>Haïti</td>\n",
       "      <td>2017</td>\n",
       "      <td>10982366.0</td>\n",
       "      <td>5300000.0</td>\n",
       "      <td>48.26</td>\n",
       "    </tr>\n",
       "    <tr>\n",
       "      <th>157</th>\n",
       "      <td>République populaire démocratique de Corée</td>\n",
       "      <td>2017</td>\n",
       "      <td>25429825.0</td>\n",
       "      <td>12000000.0</td>\n",
       "      <td>47.19</td>\n",
       "    </tr>\n",
       "    <tr>\n",
       "      <th>108</th>\n",
       "      <td>Madagascar</td>\n",
       "      <td>2017</td>\n",
       "      <td>25570512.0</td>\n",
       "      <td>10500000.0</td>\n",
       "      <td>41.06</td>\n",
       "    </tr>\n",
       "    <tr>\n",
       "      <th>103</th>\n",
       "      <td>Libéria</td>\n",
       "      <td>2017</td>\n",
       "      <td>4702226.0</td>\n",
       "      <td>1800000.0</td>\n",
       "      <td>38.28</td>\n",
       "    </tr>\n",
       "    <tr>\n",
       "      <th>100</th>\n",
       "      <td>Lesotho</td>\n",
       "      <td>2017</td>\n",
       "      <td>2091534.0</td>\n",
       "      <td>800000.0</td>\n",
       "      <td>38.25</td>\n",
       "    </tr>\n",
       "    <tr>\n",
       "      <th>183</th>\n",
       "      <td>Tchad</td>\n",
       "      <td>2017</td>\n",
       "      <td>15016753.0</td>\n",
       "      <td>5700000.0</td>\n",
       "      <td>37.96</td>\n",
       "    </tr>\n",
       "    <tr>\n",
       "      <th>161</th>\n",
       "      <td>Rwanda</td>\n",
       "      <td>2017</td>\n",
       "      <td>11980961.0</td>\n",
       "      <td>4200000.0</td>\n",
       "      <td>35.06</td>\n",
       "    </tr>\n",
       "    <tr>\n",
       "      <th>121</th>\n",
       "      <td>Mozambique</td>\n",
       "      <td>2017</td>\n",
       "      <td>28649018.0</td>\n",
       "      <td>9400000.0</td>\n",
       "      <td>32.81</td>\n",
       "    </tr>\n",
       "    <tr>\n",
       "      <th>186</th>\n",
       "      <td>Timor-Leste</td>\n",
       "      <td>2017</td>\n",
       "      <td>1243258.0</td>\n",
       "      <td>400000.0</td>\n",
       "      <td>32.17</td>\n",
       "    </tr>\n",
       "    <tr>\n",
       "      <th>0</th>\n",
       "      <td>Afghanistan</td>\n",
       "      <td>2017</td>\n",
       "      <td>36296113.0</td>\n",
       "      <td>10500000.0</td>\n",
       "      <td>28.93</td>\n",
       "    </tr>\n",
       "  </tbody>\n",
       "</table>\n",
       "</div>"
      ],
      "text/plain": [
       "                                           Pays  Année  Valeur_population  \\\n",
       "78                                        Haïti   2017         10982366.0   \n",
       "157  République populaire démocratique de Corée   2017         25429825.0   \n",
       "108                                  Madagascar   2017         25570512.0   \n",
       "103                                     Libéria   2017          4702226.0   \n",
       "100                                     Lesotho   2017          2091534.0   \n",
       "183                                       Tchad   2017         15016753.0   \n",
       "161                                      Rwanda   2017         11980961.0   \n",
       "121                                  Mozambique   2017         28649018.0   \n",
       "186                                 Timor-Leste   2017          1243258.0   \n",
       "0                                   Afghanistan   2017         36296113.0   \n",
       "\n",
       "     Valeur_sous_nutrition  Personnes en sous nutrition en 2017 (en %)  \n",
       "78               5300000.0                                       48.26  \n",
       "157             12000000.0                                       47.19  \n",
       "108             10500000.0                                       41.06  \n",
       "103              1800000.0                                       38.28  \n",
       "100               800000.0                                       38.25  \n",
       "183              5700000.0                                       37.96  \n",
       "161              4200000.0                                       35.06  \n",
       "121              9400000.0                                       32.81  \n",
       "186               400000.0                                       32.17  \n",
       "0               10500000.0                                       28.93  "
      ]
     },
     "execution_count": 77,
     "metadata": {},
     "output_type": "execute_result"
    }
   ],
   "source": [
    "round(sousnutri_par_pays.head(10),2)"
   ]
  },
  {
   "cell_type": "markdown",
   "id": "55fe4349-90be-4cd9-aadf-8d52796ad3d2",
   "metadata": {},
   "source": [
    "### 2. Les pays qui ont le plus bénéficié d’aide depuis 2013"
   ]
  },
  {
   "cell_type": "code",
   "execution_count": 78,
   "id": "6ad00d17-f1d8-46b3-89e6-b5bf14de064b",
   "metadata": {},
   "outputs": [],
   "source": [
    "pays_aide_alim = aide_alimentaire.copy().groupby(\"Pays\").sum()"
   ]
  },
  {
   "cell_type": "code",
   "execution_count": 79,
   "id": "96c8987b-c09d-4643-8ae0-a98ac94fd945",
   "metadata": {},
   "outputs": [],
   "source": [
    "pays_aide_alim.sort_values(by=\"Quantité_aide\", ascending = False, inplace=True)"
   ]
  },
  {
   "cell_type": "code",
   "execution_count": 80,
   "id": "3872fc23-3933-4ddd-9c99-acd5ef1144e4",
   "metadata": {},
   "outputs": [
    {
     "data": {
      "text/html": [
       "<div>\n",
       "<style scoped>\n",
       "    .dataframe tbody tr th:only-of-type {\n",
       "        vertical-align: middle;\n",
       "    }\n",
       "\n",
       "    .dataframe tbody tr th {\n",
       "        vertical-align: top;\n",
       "    }\n",
       "\n",
       "    .dataframe thead th {\n",
       "        text-align: right;\n",
       "    }\n",
       "</style>\n",
       "<table border=\"1\" class=\"dataframe\">\n",
       "  <thead>\n",
       "    <tr style=\"text-align: right;\">\n",
       "      <th></th>\n",
       "      <th>Année</th>\n",
       "      <th>Quantité_aide</th>\n",
       "    </tr>\n",
       "    <tr>\n",
       "      <th>Pays</th>\n",
       "      <th></th>\n",
       "      <th></th>\n",
       "    </tr>\n",
       "  </thead>\n",
       "  <tbody>\n",
       "    <tr>\n",
       "      <th>République arabe syrienne</th>\n",
       "      <td>76543</td>\n",
       "      <td>1858943000</td>\n",
       "    </tr>\n",
       "    <tr>\n",
       "      <th>Éthiopie</th>\n",
       "      <td>66460</td>\n",
       "      <td>1381294000</td>\n",
       "    </tr>\n",
       "    <tr>\n",
       "      <th>Yémen</th>\n",
       "      <td>76553</td>\n",
       "      <td>1206484000</td>\n",
       "    </tr>\n",
       "    <tr>\n",
       "      <th>Soudan du Sud</th>\n",
       "      <td>44309</td>\n",
       "      <td>695248000</td>\n",
       "    </tr>\n",
       "    <tr>\n",
       "      <th>Soudan</th>\n",
       "      <td>48335</td>\n",
       "      <td>669784000</td>\n",
       "    </tr>\n",
       "    <tr>\n",
       "      <th>Kenya</th>\n",
       "      <td>54376</td>\n",
       "      <td>552836000</td>\n",
       "    </tr>\n",
       "    <tr>\n",
       "      <th>Bangladesh</th>\n",
       "      <td>50347</td>\n",
       "      <td>348188000</td>\n",
       "    </tr>\n",
       "    <tr>\n",
       "      <th>Somalie</th>\n",
       "      <td>54377</td>\n",
       "      <td>292678000</td>\n",
       "    </tr>\n",
       "    <tr>\n",
       "      <th>République démocratique du Congo</th>\n",
       "      <td>50350</td>\n",
       "      <td>288502000</td>\n",
       "    </tr>\n",
       "    <tr>\n",
       "      <th>Niger</th>\n",
       "      <td>62448</td>\n",
       "      <td>276344000</td>\n",
       "    </tr>\n",
       "  </tbody>\n",
       "</table>\n",
       "</div>"
      ],
      "text/plain": [
       "                                  Année  Quantité_aide\n",
       "Pays                                                  \n",
       "République arabe syrienne         76543     1858943000\n",
       "Éthiopie                          66460     1381294000\n",
       "Yémen                             76553     1206484000\n",
       "Soudan du Sud                     44309      695248000\n",
       "Soudan                            48335      669784000\n",
       "Kenya                             54376      552836000\n",
       "Bangladesh                        50347      348188000\n",
       "Somalie                           54377      292678000\n",
       "République démocratique du Congo  50350      288502000\n",
       "Niger                             62448      276344000"
      ]
     },
     "execution_count": 80,
     "metadata": {},
     "output_type": "execute_result"
    }
   ],
   "source": [
    " pays_aide_alim.head(10)"
   ]
  },
  {
   "cell_type": "markdown",
   "id": "d00523b4-8f66-4eef-a1ed-234f9f3e014d",
   "metadata": {},
   "source": [
    "### 3. Les pays qui ont le plus/le moins de disponibilité/habitant"
   ]
  },
  {
   "cell_type": "code",
   "execution_count": 81,
   "id": "55e58e04-542f-465b-b7de-7e7af998322d",
   "metadata": {},
   "outputs": [],
   "source": [
    "dispo_par_habitant = dispo_alimentaire[[\"Pays\",\"Disponibilité alimentaire (Kcal/personne/jour)\"]]"
   ]
  },
  {
   "cell_type": "code",
   "execution_count": 82,
   "id": "d84cc357-6484-41ee-887a-87699c7ea5c3",
   "metadata": {},
   "outputs": [],
   "source": [
    "dispo_par_habitant = dispo_par_habitant.groupby(\"Pays\").sum()"
   ]
  },
  {
   "cell_type": "markdown",
   "id": "61ee1853-d99d-469e-9bf8-5affb78726ee",
   "metadata": {},
   "source": [
    "#### 3.1 Les pays qui ont le plus de disponibilité/habitant"
   ]
  },
  {
   "cell_type": "code",
   "execution_count": 83,
   "id": "4c92947e-b90d-4474-a397-1500265ce1f7",
   "metadata": {},
   "outputs": [],
   "source": [
    "desc_dispo_par_habitant = dispo_par_habitant.sort_values(by=\"Disponibilité alimentaire (Kcal/personne/jour)\", ascending = False)"
   ]
  },
  {
   "cell_type": "code",
   "execution_count": 84,
   "id": "10e006d7-41c2-4341-8442-c2393e4e5ca7",
   "metadata": {},
   "outputs": [
    {
     "data": {
      "text/html": [
       "<div>\n",
       "<style scoped>\n",
       "    .dataframe tbody tr th:only-of-type {\n",
       "        vertical-align: middle;\n",
       "    }\n",
       "\n",
       "    .dataframe tbody tr th {\n",
       "        vertical-align: top;\n",
       "    }\n",
       "\n",
       "    .dataframe thead th {\n",
       "        text-align: right;\n",
       "    }\n",
       "</style>\n",
       "<table border=\"1\" class=\"dataframe\">\n",
       "  <thead>\n",
       "    <tr style=\"text-align: right;\">\n",
       "      <th></th>\n",
       "      <th>Disponibilité alimentaire (Kcal/personne/jour)</th>\n",
       "    </tr>\n",
       "    <tr>\n",
       "      <th>Pays</th>\n",
       "      <th></th>\n",
       "    </tr>\n",
       "  </thead>\n",
       "  <tbody>\n",
       "    <tr>\n",
       "      <th>Autriche</th>\n",
       "      <td>3770.0</td>\n",
       "    </tr>\n",
       "    <tr>\n",
       "      <th>Belgique</th>\n",
       "      <td>3737.0</td>\n",
       "    </tr>\n",
       "    <tr>\n",
       "      <th>Turquie</th>\n",
       "      <td>3708.0</td>\n",
       "    </tr>\n",
       "    <tr>\n",
       "      <th>États-Unis d'Amérique</th>\n",
       "      <td>3682.0</td>\n",
       "    </tr>\n",
       "    <tr>\n",
       "      <th>Israël</th>\n",
       "      <td>3610.0</td>\n",
       "    </tr>\n",
       "    <tr>\n",
       "      <th>Irlande</th>\n",
       "      <td>3602.0</td>\n",
       "    </tr>\n",
       "    <tr>\n",
       "      <th>Italie</th>\n",
       "      <td>3578.0</td>\n",
       "    </tr>\n",
       "    <tr>\n",
       "      <th>Luxembourg</th>\n",
       "      <td>3540.0</td>\n",
       "    </tr>\n",
       "    <tr>\n",
       "      <th>Égypte</th>\n",
       "      <td>3518.0</td>\n",
       "    </tr>\n",
       "    <tr>\n",
       "      <th>Allemagne</th>\n",
       "      <td>3503.0</td>\n",
       "    </tr>\n",
       "  </tbody>\n",
       "</table>\n",
       "</div>"
      ],
      "text/plain": [
       "                       Disponibilité alimentaire (Kcal/personne/jour)\n",
       "Pays                                                                 \n",
       "Autriche                                                       3770.0\n",
       "Belgique                                                       3737.0\n",
       "Turquie                                                        3708.0\n",
       "États-Unis d'Amérique                                          3682.0\n",
       "Israël                                                         3610.0\n",
       "Irlande                                                        3602.0\n",
       "Italie                                                         3578.0\n",
       "Luxembourg                                                     3540.0\n",
       "Égypte                                                         3518.0\n",
       "Allemagne                                                      3503.0"
      ]
     },
     "execution_count": 84,
     "metadata": {},
     "output_type": "execute_result"
    }
   ],
   "source": [
    "desc_dispo_par_habitant.head(10)"
   ]
  },
  {
   "cell_type": "markdown",
   "id": "7215f081-7d59-4593-a678-54fac6a17637",
   "metadata": {},
   "source": [
    "#### 3.2 Les pays qui ont le moins de disponibilité/habitant"
   ]
  },
  {
   "cell_type": "code",
   "execution_count": 85,
   "id": "c17a8076-1ca8-4dd0-8f81-dc670c306a6d",
   "metadata": {},
   "outputs": [],
   "source": [
    "asc_dispo_par_habitant = dispo_par_habitant.sort_values(by=\"Disponibilité alimentaire (Kcal/personne/jour)\", ascending = True)"
   ]
  },
  {
   "cell_type": "code",
   "execution_count": 86,
   "id": "ea28f0dd-3948-4fe7-a6c0-efa7b9afa298",
   "metadata": {},
   "outputs": [
    {
     "data": {
      "text/html": [
       "<div>\n",
       "<style scoped>\n",
       "    .dataframe tbody tr th:only-of-type {\n",
       "        vertical-align: middle;\n",
       "    }\n",
       "\n",
       "    .dataframe tbody tr th {\n",
       "        vertical-align: top;\n",
       "    }\n",
       "\n",
       "    .dataframe thead th {\n",
       "        text-align: right;\n",
       "    }\n",
       "</style>\n",
       "<table border=\"1\" class=\"dataframe\">\n",
       "  <thead>\n",
       "    <tr style=\"text-align: right;\">\n",
       "      <th></th>\n",
       "      <th>Disponibilité alimentaire (Kcal/personne/jour)</th>\n",
       "    </tr>\n",
       "    <tr>\n",
       "      <th>Pays</th>\n",
       "      <th></th>\n",
       "    </tr>\n",
       "  </thead>\n",
       "  <tbody>\n",
       "    <tr>\n",
       "      <th>République centrafricaine</th>\n",
       "      <td>1879.0</td>\n",
       "    </tr>\n",
       "    <tr>\n",
       "      <th>Zambie</th>\n",
       "      <td>1924.0</td>\n",
       "    </tr>\n",
       "    <tr>\n",
       "      <th>Madagascar</th>\n",
       "      <td>2056.0</td>\n",
       "    </tr>\n",
       "    <tr>\n",
       "      <th>Afghanistan</th>\n",
       "      <td>2087.0</td>\n",
       "    </tr>\n",
       "    <tr>\n",
       "      <th>Haïti</th>\n",
       "      <td>2089.0</td>\n",
       "    </tr>\n",
       "    <tr>\n",
       "      <th>République populaire démocratique de Corée</th>\n",
       "      <td>2093.0</td>\n",
       "    </tr>\n",
       "    <tr>\n",
       "      <th>Tchad</th>\n",
       "      <td>2109.0</td>\n",
       "    </tr>\n",
       "    <tr>\n",
       "      <th>Zimbabwe</th>\n",
       "      <td>2113.0</td>\n",
       "    </tr>\n",
       "    <tr>\n",
       "      <th>Ouganda</th>\n",
       "      <td>2126.0</td>\n",
       "    </tr>\n",
       "    <tr>\n",
       "      <th>Timor-Leste</th>\n",
       "      <td>2129.0</td>\n",
       "    </tr>\n",
       "  </tbody>\n",
       "</table>\n",
       "</div>"
      ],
      "text/plain": [
       "                                            Disponibilité alimentaire (Kcal/personne/jour)\n",
       "Pays                                                                                      \n",
       "République centrafricaine                                                           1879.0\n",
       "Zambie                                                                              1924.0\n",
       "Madagascar                                                                          2056.0\n",
       "Afghanistan                                                                         2087.0\n",
       "Haïti                                                                               2089.0\n",
       "République populaire démocratique de Corée                                          2093.0\n",
       "Tchad                                                                               2109.0\n",
       "Zimbabwe                                                                            2113.0\n",
       "Ouganda                                                                             2126.0\n",
       "Timor-Leste                                                                         2129.0"
      ]
     },
     "execution_count": 86,
     "metadata": {},
     "output_type": "execute_result"
    }
   ],
   "source": [
    "asc_dispo_par_habitant.head(10)"
   ]
  },
  {
   "cell_type": "markdown",
   "id": "c3496836-3062-4810-9d7a-3431d49edec8",
   "metadata": {},
   "source": [
    "## IV. Les remarques de Julien"
   ]
  },
  {
   "cell_type": "markdown",
   "id": "d46d6a20-b8e4-4346-9357-deffc4f49b85",
   "metadata": {},
   "source": [
    "### 1. Utilisation des céréales"
   ]
  },
  {
   "cell_type": "code",
   "execution_count": 87,
   "id": "f10fc504-6ecf-4f81-9bd7-83f6b1ebd004",
   "metadata": {},
   "outputs": [],
   "source": [
    "liste_cereales = [\"Blé\", \"Maïs\", \"Riz (Eq Blanchi)\", \"Orge\", \"Seigle\", \"Avoine\", \"Millet\", \"Sorgho\", \"Céréales, Autres\"]"
   ]
  },
  {
   "cell_type": "code",
   "execution_count": 88,
   "id": "dcd38b82-b820-41f4-9c6b-ea8852b4ec19",
   "metadata": {},
   "outputs": [],
   "source": [
    "cereales = dispo_alimentaire.loc[dispo_alimentaire[\"Produit\"].isin(liste_cereales), [\"Produit\",\"Aliments pour animaux\", \"Autres Utilisations\", \"Nourriture\", \"Pertes\", \"Semences\", \"Traitement\",\"Disponibilité intérieure\"]].copy()"
   ]
  },
  {
   "cell_type": "code",
   "execution_count": 89,
   "id": "12c2f4de-2cae-4b22-838c-bda8f1f7a229",
   "metadata": {},
   "outputs": [
    {
     "data": {
      "text/html": [
       "<div>\n",
       "<style scoped>\n",
       "    .dataframe tbody tr th:only-of-type {\n",
       "        vertical-align: middle;\n",
       "    }\n",
       "\n",
       "    .dataframe tbody tr th {\n",
       "        vertical-align: top;\n",
       "    }\n",
       "\n",
       "    .dataframe thead th {\n",
       "        text-align: right;\n",
       "    }\n",
       "</style>\n",
       "<table border=\"1\" class=\"dataframe\">\n",
       "  <thead>\n",
       "    <tr style=\"text-align: right;\">\n",
       "      <th></th>\n",
       "      <th>Produit</th>\n",
       "      <th>Aliments pour animaux</th>\n",
       "      <th>Autres Utilisations</th>\n",
       "      <th>Nourriture</th>\n",
       "      <th>Pertes</th>\n",
       "      <th>Semences</th>\n",
       "      <th>Traitement</th>\n",
       "      <th>Disponibilité intérieure</th>\n",
       "    </tr>\n",
       "  </thead>\n",
       "  <tbody>\n",
       "    <tr>\n",
       "      <th>7</th>\n",
       "      <td>Blé</td>\n",
       "      <td>0.0</td>\n",
       "      <td>0.0</td>\n",
       "      <td>4.895000e+09</td>\n",
       "      <td>775000000.0</td>\n",
       "      <td>322000000.0</td>\n",
       "      <td>0.0</td>\n",
       "      <td>5.992000e+09</td>\n",
       "    </tr>\n",
       "    <tr>\n",
       "      <th>12</th>\n",
       "      <td>Céréales, Autres</td>\n",
       "      <td>0.0</td>\n",
       "      <td>0.0</td>\n",
       "      <td>0.000000e+00</td>\n",
       "      <td>0.0</td>\n",
       "      <td>0.0</td>\n",
       "      <td>0.0</td>\n",
       "      <td>0.000000e+00</td>\n",
       "    </tr>\n",
       "    <tr>\n",
       "      <th>32</th>\n",
       "      <td>Maïs</td>\n",
       "      <td>200000000.0</td>\n",
       "      <td>0.0</td>\n",
       "      <td>7.600000e+07</td>\n",
       "      <td>31000000.0</td>\n",
       "      <td>5000000.0</td>\n",
       "      <td>0.0</td>\n",
       "      <td>3.130000e+08</td>\n",
       "    </tr>\n",
       "    <tr>\n",
       "      <th>34</th>\n",
       "      <td>Millet</td>\n",
       "      <td>0.0</td>\n",
       "      <td>0.0</td>\n",
       "      <td>1.200000e+07</td>\n",
       "      <td>1000000.0</td>\n",
       "      <td>0.0</td>\n",
       "      <td>0.0</td>\n",
       "      <td>1.300000e+07</td>\n",
       "    </tr>\n",
       "    <tr>\n",
       "      <th>40</th>\n",
       "      <td>Orge</td>\n",
       "      <td>360000000.0</td>\n",
       "      <td>0.0</td>\n",
       "      <td>8.900000e+07</td>\n",
       "      <td>52000000.0</td>\n",
       "      <td>22000000.0</td>\n",
       "      <td>0.0</td>\n",
       "      <td>5.240000e+08</td>\n",
       "    </tr>\n",
       "  </tbody>\n",
       "</table>\n",
       "</div>"
      ],
      "text/plain": [
       "             Produit  Aliments pour animaux  Autres Utilisations  \\\n",
       "7                Blé                    0.0                  0.0   \n",
       "12  Céréales, Autres                    0.0                  0.0   \n",
       "32              Maïs            200000000.0                  0.0   \n",
       "34            Millet                    0.0                  0.0   \n",
       "40              Orge            360000000.0                  0.0   \n",
       "\n",
       "      Nourriture       Pertes     Semences  Traitement  \\\n",
       "7   4.895000e+09  775000000.0  322000000.0         0.0   \n",
       "12  0.000000e+00          0.0          0.0         0.0   \n",
       "32  7.600000e+07   31000000.0    5000000.0         0.0   \n",
       "34  1.200000e+07    1000000.0          0.0         0.0   \n",
       "40  8.900000e+07   52000000.0   22000000.0         0.0   \n",
       "\n",
       "    Disponibilité intérieure  \n",
       "7               5.992000e+09  \n",
       "12              0.000000e+00  \n",
       "32              3.130000e+08  \n",
       "34              1.300000e+07  \n",
       "40              5.240000e+08  "
      ]
     },
     "execution_count": 89,
     "metadata": {},
     "output_type": "execute_result"
    }
   ],
   "source": [
    "cereales.head()"
   ]
  },
  {
   "cell_type": "markdown",
   "id": "397ca4eb-8358-439f-b990-6ea637e3b2b3",
   "metadata": {
    "tags": []
   },
   "source": [
    "#### Calcul des proportions"
   ]
  },
  {
   "cell_type": "code",
   "execution_count": 90,
   "id": "6803289c-2691-4ce0-a2c0-38f0b0680a3e",
   "metadata": {},
   "outputs": [],
   "source": [
    "cereales_animaux = (cereales[\"Aliments pour animaux\"].sum() / cereales[\"Disponibilité intérieure\"].sum()) * 100"
   ]
  },
  {
   "cell_type": "code",
   "execution_count": 91,
   "id": "92f56030-092d-4fda-af02-53986304298d",
   "metadata": {},
   "outputs": [
    {
     "data": {
      "text/plain": [
       "36.29"
      ]
     },
     "execution_count": 91,
     "metadata": {},
     "output_type": "execute_result"
    }
   ],
   "source": [
    "round(cereales_animaux,2)"
   ]
  },
  {
   "cell_type": "code",
   "execution_count": 92,
   "id": "c7c472a2-99d1-44c8-8541-b7681004d3f3",
   "metadata": {},
   "outputs": [],
   "source": [
    "cereales_humain = (cereales[\"Nourriture\"].sum() / cereales[\"Disponibilité intérieure\"].sum()) * 100"
   ]
  },
  {
   "cell_type": "code",
   "execution_count": 93,
   "id": "86aecef3-58f6-43f8-b18b-9b67ed57986d",
   "metadata": {},
   "outputs": [
    {
     "data": {
      "text/plain": [
       "42.75"
      ]
     },
     "execution_count": 93,
     "metadata": {},
     "output_type": "execute_result"
    }
   ],
   "source": [
    "round(cereales_humain, 2)"
   ]
  },
  {
   "cell_type": "code",
   "execution_count": 94,
   "id": "db700622-4179-4856-b6df-13374cd17161",
   "metadata": {},
   "outputs": [],
   "source": [
    "cereales_autres = ((cereales[\"Autres Utilisations\"].sum() + cereales[\"Traitement\"].sum() + cereales[\"Semences\"].sum()) / cereales[\"Disponibilité intérieure\"].sum()) * 100"
   ]
  },
  {
   "cell_type": "code",
   "execution_count": 95,
   "id": "23838886-1548-425b-b861-cb404ab96480",
   "metadata": {},
   "outputs": [
    {
     "data": {
      "text/plain": [
       "16.53"
      ]
     },
     "execution_count": 95,
     "metadata": {},
     "output_type": "execute_result"
    }
   ],
   "source": [
    "round(cereales_autres, 2)"
   ]
  },
  {
   "cell_type": "code",
   "execution_count": 96,
   "id": "a969c132-8c18-4f82-a6ec-888cabf03108",
   "metadata": {},
   "outputs": [],
   "source": [
    "cereales_pertes = (cereales[\"Pertes\"].sum() / cereales[\"Disponibilité intérieure\"].sum()) * 100"
   ]
  },
  {
   "cell_type": "code",
   "execution_count": 97,
   "id": "69a92d3f-0342-4d22-992c-dfea19b15292",
   "metadata": {},
   "outputs": [
    {
     "data": {
      "text/plain": [
       "4.45"
      ]
     },
     "execution_count": 97,
     "metadata": {},
     "output_type": "execute_result"
    }
   ],
   "source": [
    "round(cereales_pertes, 2)"
   ]
  },
  {
   "cell_type": "markdown",
   "id": "3d9f3215-d63f-4363-bc91-29aa886877a7",
   "metadata": {
    "tags": []
   },
   "source": [
    "##### Vérification"
   ]
  },
  {
   "cell_type": "code",
   "execution_count": 98,
   "id": "492ac937-22e6-4112-b275-2f1fd14e7a55",
   "metadata": {},
   "outputs": [
    {
     "data": {
      "text/plain": [
       "100.02409639555312"
      ]
     },
     "execution_count": 98,
     "metadata": {},
     "output_type": "execute_result"
    }
   ],
   "source": [
    "cereales_animaux + cereales_humain + cereales_pertes + cereales_autres"
   ]
  },
  {
   "cell_type": "markdown",
   "id": "02eef06c-197b-425d-b8a1-f76eb67b4c4f",
   "metadata": {
    "tags": []
   },
   "source": [
    "##### Représentation graphique"
   ]
  },
  {
   "cell_type": "code",
   "execution_count": 99,
   "id": "a7800800-54d9-48c1-ad6e-3f43864fd863",
   "metadata": {},
   "outputs": [],
   "source": [
    "liste_cereales_utilisations = [cereales_humain, cereales_animaux, cereales_pertes, cereales_autres]"
   ]
  },
  {
   "cell_type": "code",
   "execution_count": 100,
   "id": "2392ca2c-b03c-4aa9-ab0e-81a514ec9650",
   "metadata": {},
   "outputs": [
    {
     "data": {
      "image/png": "[encoded data removed]",
      "text/plain": [
       "<Figure size 864x576 with 1 Axes>"
      ]
     },
     "metadata": {},
     "output_type": "display_data"
    }
   ],
   "source": [
    "plt.figure(figsize=(12,8))\n",
    "plt.title(\"Répartition de l'utilisation des céréales\")\n",
    "\n",
    "labels = \"Alimentation humaine\", \"Alimentation des animaux\", \"Pertes\", \"Autres utilisations\"\n",
    "colors = ['yellowgreen', 'gold', 'lightcoral', 'lightskyblue']\n",
    "\n",
    "plt.pie(x=liste_cereales_utilisations,labels=labels, colors=colors, autopct='%1.1f%%', startangle=90)\n",
    "\n",
    "plt.axis('equal')\n",
    "\n",
    "plt.savefig('PieChart02.png')"
   ]
  },
  {
   "cell_type": "markdown",
   "id": "54758d52-9200-4821-9c3c-a235def8ace6",
   "metadata": {},
   "source": [
    "### 2. L'utilisation du manioc par la Thaïlande"
   ]
  },
  {
   "cell_type": "markdown",
   "id": "e22eb4ba-ec22-4f44-bf6d-88454b39ed5c",
   "metadata": {},
   "source": [
    "#### 2.1 Rapport production/exportation"
   ]
  },
  {
   "cell_type": "code",
   "execution_count": 101,
   "id": "676fe3bf-72d6-4721-aa9f-52680a9c2f35",
   "metadata": {},
   "outputs": [],
   "source": [
    "manioc_thai = dispo_alimentaire.loc[(dispo_alimentaire[\"Produit\"]==\"Manioc\") & (dispo_alimentaire[\"Pays\"]==\"Thaïlande\"), \n",
    "                                    [\"Pays\", \"Produit\",\"Disponibilité intérieure\",\"Production\", \"Exportations - Quantité\"]].copy() "
   ]
  },
  {
   "cell_type": "code",
   "execution_count": 102,
   "id": "e4daae1e-16c3-48b9-b216-a87bdf3ab035",
   "metadata": {},
   "outputs": [],
   "source": [
    "manioc_thai[\"proportion_prod_export (en %)\"] = round((manioc_thai[\"Exportations - Quantité\"]/ manioc_thai[\"Production\"])* 100, 2)"
   ]
  },
  {
   "cell_type": "code",
   "execution_count": 103,
   "id": "f5fe5b1f-c25a-42f4-896b-c3b602b4cec8",
   "metadata": {},
   "outputs": [
    {
     "data": {
      "text/html": [
       "<div>\n",
       "<style scoped>\n",
       "    .dataframe tbody tr th:only-of-type {\n",
       "        vertical-align: middle;\n",
       "    }\n",
       "\n",
       "    .dataframe tbody tr th {\n",
       "        vertical-align: top;\n",
       "    }\n",
       "\n",
       "    .dataframe thead th {\n",
       "        text-align: right;\n",
       "    }\n",
       "</style>\n",
       "<table border=\"1\" class=\"dataframe\">\n",
       "  <thead>\n",
       "    <tr style=\"text-align: right;\">\n",
       "      <th></th>\n",
       "      <th>Pays</th>\n",
       "      <th>Produit</th>\n",
       "      <th>Disponibilité intérieure</th>\n",
       "      <th>Production</th>\n",
       "      <th>Exportations - Quantité</th>\n",
       "      <th>proportion_prod_export (en %)</th>\n",
       "    </tr>\n",
       "  </thead>\n",
       "  <tbody>\n",
       "    <tr>\n",
       "      <th>13809</th>\n",
       "      <td>Thaïlande</td>\n",
       "      <td>Manioc</td>\n",
       "      <td>6.264000e+09</td>\n",
       "      <td>3.022800e+10</td>\n",
       "      <td>2.521400e+10</td>\n",
       "      <td>83.41</td>\n",
       "    </tr>\n",
       "  </tbody>\n",
       "</table>\n",
       "</div>"
      ],
      "text/plain": [
       "            Pays Produit  Disponibilité intérieure    Production  \\\n",
       "13809  Thaïlande  Manioc              6.264000e+09  3.022800e+10   \n",
       "\n",
       "       Exportations - Quantité  proportion_prod_export (en %)  \n",
       "13809             2.521400e+10                          83.41  "
      ]
     },
     "execution_count": 103,
     "metadata": {},
     "output_type": "execute_result"
    }
   ],
   "source": [
    "manioc_thai.head()"
   ]
  },
  {
   "cell_type": "markdown",
   "id": "4f56c960-7298-40e8-950f-5d9f71bdf13f",
   "metadata": {},
   "source": [
    "83, 41 % de la production du manioc est exportée."
   ]
  },
  {
   "cell_type": "markdown",
   "id": "a38f5d5a-d1e9-45e9-9122-8a16df8ae2cf",
   "metadata": {},
   "source": [
    "#### 2.1. Proportion des personnes en sous_nutrition en Thaïlande"
   ]
  },
  {
   "cell_type": "code",
   "execution_count": 104,
   "id": "6b47fd75-98d4-4ec4-8dd4-7498c58494d4",
   "metadata": {},
   "outputs": [],
   "source": [
    "sousnutri_pop_thai_2017 = sousnutri_pop_2017[sousnutri_pop_2017[\"Pays\"]==\"Thaïlande\"].copy()"
   ]
  },
  {
   "cell_type": "code",
   "execution_count": 105,
   "id": "0b2fff69-c59f-4cec-ac61-ce9392ad1485",
   "metadata": {},
   "outputs": [],
   "source": [
    "sousnutri_pop_thai_2017[\"Proportion_sous_nutrition_Thaïlande (en %)\"] = round((sousnutri_pop_thai_2017[\"Valeur_sous_nutrition\"] / sousnutri_pop_thai_2017[\"Valeur_population\"]) * 100, 2)"
   ]
  },
  {
   "cell_type": "code",
   "execution_count": 106,
   "id": "90239f79-0693-44d1-9899-a5115da98e22",
   "metadata": {},
   "outputs": [
    {
     "data": {
      "text/html": [
       "<div>\n",
       "<style scoped>\n",
       "    .dataframe tbody tr th:only-of-type {\n",
       "        vertical-align: middle;\n",
       "    }\n",
       "\n",
       "    .dataframe tbody tr th {\n",
       "        vertical-align: top;\n",
       "    }\n",
       "\n",
       "    .dataframe thead th {\n",
       "        text-align: right;\n",
       "    }\n",
       "</style>\n",
       "<table border=\"1\" class=\"dataframe\">\n",
       "  <thead>\n",
       "    <tr style=\"text-align: right;\">\n",
       "      <th></th>\n",
       "      <th>Pays</th>\n",
       "      <th>Année</th>\n",
       "      <th>Valeur_population</th>\n",
       "      <th>Valeur_sous_nutrition</th>\n",
       "      <th>Proportion_sous_nutrition_Thaïlande (en %)</th>\n",
       "    </tr>\n",
       "  </thead>\n",
       "  <tbody>\n",
       "    <tr>\n",
       "      <th>185</th>\n",
       "      <td>Thaïlande</td>\n",
       "      <td>2017</td>\n",
       "      <td>69209810.0</td>\n",
       "      <td>6200000.0</td>\n",
       "      <td>8.96</td>\n",
       "    </tr>\n",
       "  </tbody>\n",
       "</table>\n",
       "</div>"
      ],
      "text/plain": [
       "          Pays  Année  Valeur_population  Valeur_sous_nutrition  \\\n",
       "185  Thaïlande   2017         69209810.0              6200000.0   \n",
       "\n",
       "     Proportion_sous_nutrition_Thaïlande (en %)  \n",
       "185                                        8.96  "
      ]
     },
     "execution_count": 106,
     "metadata": {},
     "output_type": "execute_result"
    }
   ],
   "source": [
    "sousnutri_pop_thai_2017"
   ]
  },
  {
   "cell_type": "markdown",
   "id": "fb56a456-af0e-4dac-867b-fe54f6e61508",
   "metadata": {},
   "source": [
    "8,96% de la population du pays est sous_alimentée."
   ]
  },
  {
   "cell_type": "markdown",
   "id": "531fcf9c-38a5-4bea-a19e-0474ea0d1925",
   "metadata": {},
   "source": [
    "#### 2.3. Conclusion"
   ]
  },
  {
   "cell_type": "markdown",
   "id": "ac5db373-8bab-4c56-bbd1-e6d43125a692",
   "metadata": {},
   "source": [
    "La thaïlande a produit plus de 30 milliards de kilogrammes de manioc (en 2017) et 83,41 % cette production a été exportée.  1kg de manioc apporte entre 1250 et  1400 kcal.\n",
    "\n",
    "Une meilleure stratégie sur l'exportation et l'utilisation de ce produit permettra d'améliorer l'état de la malnutrition qui représente 8,96% de la population du pays.\n",
    "\n",
    "\n",
    "Il est important de noter que la Thaïlande est le pays le plus inégalitaire dans le monde selon le rapport 2018 publié par le Crédit Suisse.\n",
    "\n",
    "Selon les conclusions du rapport 2018 Global Wealth Databook 2018 les statistiques compilée par Credit Suisse dans 40 pays montrent que les 1% des Thaïlandais les plus riches contrôlent 66,9% des richesses du pays.\n"
   ]
  }
 ],
 "metadata": {
  "kernelspec": {
   "display_name": "Python 3 (ipykernel)",
   "language": "python",
   "name": "python3"
  },
  "language_info": {
   "codemirror_mode": {
    "name": "ipython",
    "version": 3
   },
   "file_extension": ".py",
   "mimetype": "text/x-python",
   "name": "python",
   "nbconvert_exporter": "python",
   "pygments_lexer": "ipython3",
   "version": "3.9.7"
  }
 },
 "nbformat": 4,
 "nbformat_minor": 5
}
